{
 "cells": [
  {
   "cell_type": "code",
   "execution_count": 1,
   "metadata": {},
   "outputs": [],
   "source": [
    "import os\n",
    "from getpass import getpass\n",
    "\n",
    "import openai\n",
    "\n",
    "if not (openai_api_key := os.getenv(\"OPENAI_API_KEY\")):\n",
    "    openai_api_key = getpass(\"🔑 Enter your OpenAI API key: \")\n",
    "openai.api_key = openai_api_key\n",
    "os.environ[\"OPENAI_API_KEY\"] = openai_api_key"
   ]
  },
  {
   "cell_type": "code",
   "execution_count": 4,
   "metadata": {},
   "outputs": [],
   "source": [
    "import os\n",
    "from dotenv import load_dotenv\n",
    "from openinference.instrumentation.llama_index import LlamaIndexInstrumentor\n",
    "from opentelemetry import trace as trace_api\n",
    "from opentelemetry.exporter.otlp.proto.http.trace_exporter import OTLPSpanExporter\n",
    "from opentelemetry.sdk import trace as trace_sdk\n",
    "from opentelemetry.sdk.trace.export import SimpleSpanProcessor\n",
    "\n",
    "load_dotenv()\n",
    "\n",
    "def instrument():\n",
    "    tracer_provider = trace_sdk.TracerProvider()\n",
    "    \n",
    "    # Phoenix\n",
    "    span_exporter = OTLPSpanExporter(\"http://phoenix:6006/v1/traces\")\n",
    "    span_processor = SimpleSpanProcessor(span_exporter)\n",
    "    tracer_provider.add_span_processor(span_processor)\n",
    "\n",
    "    # Grafana Cloud\n",
    "    span_exporter = OTLPSpanExporter(\"https://otlp-gateway-prod-us-east-0.grafana.net/otlp\", headers={\"Authorization\": os.getenv(\"OTEL_EXPORTER_OTLP_HEADERS\")})\n",
    "    span_processor = SimpleSpanProcessor(span_exporter)\n",
    "    tracer_provider.add_span_processor(span_processor)\n",
    "\n",
    "    trace_api.set_tracer_provider(tracer_provider)\n",
    "    LlamaIndexInstrumentor().instrument()"
   ]
  },
  {
   "cell_type": "code",
   "execution_count": null,
   "metadata": {},
   "outputs": [],
   "source": []
  },
  {
   "cell_type": "code",
   "execution_count": 5,
   "metadata": {},
   "outputs": [],
   "source": [
    "instrument()"
   ]
  },
  {
   "cell_type": "code",
   "execution_count": 6,
   "metadata": {},
   "outputs": [],
   "source": [
    "import pandas as pd\n",
    "import phoenix as px\n",
    "from phoenix.trace import TraceDataset, using_project\n",
    "\n",
    "\n",
    "# Display the complete contents of dataframe cells.\n",
    "# pd.set_option(\"display.max_colwidth\", None)"
   ]
  },
  {
   "cell_type": "code",
   "execution_count": 7,
   "metadata": {},
   "outputs": [],
   "source": [
    "!sleep 3"
   ]
  },
  {
   "cell_type": "code",
   "execution_count": 8,
   "metadata": {},
   "outputs": [],
   "source": [
    "testset_hex = \"e4de504721b64dd1b1b2cd762b46b628\""
   ]
  },
  {
   "cell_type": "code",
   "execution_count": 9,
   "metadata": {},
   "outputs": [
    {
     "name": "stdout",
     "output_type": "stream",
     "text": [
      "🌍 To view the Phoenix app in your browser, visit http://localhost:6006/\n",
      "📺 To view the Phoenix app in a notebook, run `px.active_session().view()`\n",
      "📖 For more information on how to use Phoenix, check out https://docs.arize.com/phoenix\n"
     ]
    }
   ],
   "source": [
    "with using_project(\"ragas-testset\"):\n",
    "    trace_dataset = TraceDataset.load(testset_hex, directory='./data')\n",
    "    session = px.launch_app(trace=trace_dataset)"
   ]
  },
  {
   "cell_type": "code",
   "execution_count": 10,
   "metadata": {},
   "outputs": [],
   "source": [
    "from llama_index.core import SimpleDirectoryReader\n",
    "\n",
    "dir_path = \"./data/prompt-engineering-papers\"\n",
    "reader = SimpleDirectoryReader(dir_path, num_files_limit=2)\n",
    "documents = reader.load_data()"
   ]
  },
  {
   "cell_type": "code",
   "execution_count": 11,
   "metadata": {},
   "outputs": [
    {
     "data": {
      "text/plain": [
       "41"
      ]
     },
     "execution_count": 11,
     "metadata": {},
     "output_type": "execute_result"
    }
   ],
   "source": [
    "len(documents)"
   ]
  },
  {
   "cell_type": "code",
   "execution_count": 12,
   "metadata": {},
   "outputs": [
    {
     "data": {
      "text/plain": [
       "Document(id_='22114005-4e0f-4440-8f1d-73bcb73afe89', embedding=None, metadata={'page_label': '2', 'file_name': '1605.08386v1.Heat_bath_random_walks_with_Markov_bases.pdf', 'file_path': '/home/peter-legion-wsl2/peter-projects/regen-ai/nbs/data/prompt-engineering-papers/1605.08386v1.Heat_bath_random_walks_with_Markov_bases.pdf', 'file_type': 'application/pdf', 'file_size': 289178, 'creation_date': '2024-04-13', 'last_modified_date': '2024-04-13'}, excluded_embed_metadata_keys=['file_name', 'file_type', 'file_size', 'creation_date', 'last_modified_date', 'last_accessed_date'], excluded_llm_metadata_keys=['file_name', 'file_type', 'file_size', 'creation_date', 'last_modified_date', 'last_accessed_date'], relationships={}, text='2 CAPRICE STANLEY AND TOBIAS WINDISCH\\nreached by a random walk that uses moves from M, whereas for the continuous version, a\\nrandom sampling from the unit sphere suﬃces. However, in man y situations where a Markov\\nbasis is known, the heat-bath random walk is evidently fast. For instance, it was shown in [3]\\nthat the heat-bath random walk on contingency tables mixes r apidly when the number of\\ncolumns is ﬁxed. To work around the connectedness issue, a discrete hit-and-run algorithm\\nwas introduced in [1] for arbitrary ﬁnite sets F ⊂Zd. At each step in this random walk, a\\nsubordinate and unrestricted random walk starts at the curr ent lattice point u∈ Fand uses\\nthe unit vectors to collect a set of proposals S⊂Zd. The random walk then moves from u\\nto a random point in S∩F.\\nRandom walks of the heat-bath type, such as the one presented above, have been studied\\nrecently in [8] in a more general context. In this paper, we ex plore the mixing behaviour of\\nheat-bath random walks on the lattice points of polytopes wi th Markov bases. Throughout,\\nwe assume that a Markov basis has been found already and refer to the relevant literature\\nfor their computation [24, 25, 11, 17, 10, 21]. We call the und erlying graph of the heat-bath\\nrandom walk a compressed ﬁber graph (Deﬁnition 2.5) and determine in Section 3bounds on\\nits graph-diameter. We provethat forany A∈Zm×dwithker Z(A)∩Nd={0}, thediameter of\\ncompressed ﬁber graphs on {u∈Nd:Au=b}that use a ﬁxed Markov bases M ⊂kerZ(A) is\\nbounded from above by a constant as bvaries (Theorem 3.15). In contrast, we show that the\\ndiameterofconventional ﬁbergraphsgrowlinearlyunderad ilationoftheunderlyingpolytope\\n(Remark 3.9). This gives rise to slow mixing results for conventional ﬁb er walks as observed\\nin [27]. In Section 4, we study in more detail the combinatorial and analytical st ructure\\nof the transition matrices of heat-bath random walks on latt ice points and prove upper and\\nlower bounds on their second largest eigenvalues. We also di scuss how the distribution on the\\nmovesMaﬀects the speed of convergence (Example 4.21). Theorem 5.8establishes with the\\ncanonical path approach from [23] an upper bound on the second largest eigenvalue whe n the\\nMarkov basis is augmenting (Deﬁnition 5.1) and the stationary distribution is uniform. From\\nthat, we conclude fast mixing results for random walks on lat tice points in ﬁxed dimension.\\nAcknowledgements. CS was partially supported by the US National Science Founda tion\\n(DMS 0954865). TWgratefully acknowledges thesupportrece ived fromtheGerman National\\nAcademic Foundation.\\nConventions and Notation. Thenaturalnumbersare N:={0,1,2,...}andforany N∈N,\\nN>N:={n∈N:n > N}andN≥N:={N}∪N>N. Forn∈N>0, let [n] :={1,...,n}. Let\\nM ⊂Qdbe a ﬁnite set, then Z·M:={λm:m∈ M,λ∈Z}andNMis the aﬃne semigroup\\ninZdgenerated by M. For an integer matrix A∈Zm×dwith columns a1,...,ad∈Zm,\\nwe write NA:=N{a1,...,ad}. A graph is always undirected and can have multiple loops.\\nThe distance of two nodes u,vwhich are contained in the same connected component of a\\ngraphG, i.e. the number of edges in a shortest path between uandvinG, is denoted by\\ndistG(u,v). We set dist G(u,v) :=∞ifuandvare disconnected. A mass function on a ﬁnite\\nset Ω is a map f: Ω→[0,1] such that∑\\nω∈Ωf(ω) = 1. A mass function fon Ω ispositive\\niff(ω)>0 for all ω∈Ω. A set F ⊂Zdisnormalif it there exists a polytope P ⊂Qdsuch\\nthatP ∩Zd=F.', start_char_idx=None, end_char_idx=None, text_template='{metadata_str}\\n\\n{content}', metadata_template='{key}: {value}', metadata_seperator='\\n')"
      ]
     },
     "execution_count": 12,
     "metadata": {},
     "output_type": "execute_result"
    }
   ],
   "source": [
    "documents[1]"
   ]
  },
  {
   "cell_type": "markdown",
   "metadata": {},
   "source": [
    "Set handler for `Llama Index` and `Langchain`(Ragas uses Langchain)"
   ]
  },
  {
   "cell_type": "code",
   "execution_count": 13,
   "metadata": {},
   "outputs": [],
   "source": [
    "\n",
    "from llama_index.core import set_global_handler\n",
    "from phoenix.trace.langchain import LangChainInstrumentor\n",
    "\n",
    "\n",
    "# Setup instrumentation for both llama-index and LangChain (used by Ragas)\n",
    "set_global_handler(\"arize_phoenix\")\n",
    "LangChainInstrumentor().instrument()"
   ]
  },
  {
   "cell_type": "code",
   "execution_count": 14,
   "metadata": {},
   "outputs": [],
   "source": [
    "from llama_index.core import VectorStoreIndex\n",
    "from llama_index.embeddings.openai import OpenAIEmbedding\n",
    "from phoenix.trace import using_project\n",
    "\n",
    "\n",
    "def build_query_engine(documents):\n",
    "    vector_index = VectorStoreIndex.from_documents(\n",
    "        documents,\n",
    "        embed_model=OpenAIEmbedding(model=\"text-embedding-3-small\")\n",
    "    )\n",
    "    query_engine = vector_index.as_query_engine(similarity_top_k=2)\n",
    "    return query_engine\n",
    "\n",
    "\n",
    "with using_project(\"indexing\"):\n",
    "    # By assigning a project name, the instrumentation will send all the embeddings to the indexing project\n",
    "    query_engine = build_query_engine(documents)"
   ]
  },
  {
   "cell_type": "code",
   "execution_count": 15,
   "metadata": {},
   "outputs": [
    {
     "name": "stdout",
     "output_type": "stream",
     "text": [
      "💾 Trace dataset saved to under ID: 28ad8281-0784-4865-b6dd-b227dc47b6d7\n",
      "📂 Trace dataset path: data/trace_dataset-28ad8281-0784-4865-b6dd-b227dc47b6d7.parquet\n"
     ]
    }
   ],
   "source": [
    "my_traces = px.Client().get_trace_dataset(project_name=\"indexing\").save(directory=\"./data\")"
   ]
  },
  {
   "cell_type": "code",
   "execution_count": 16,
   "metadata": {},
   "outputs": [
    {
     "data": {
      "text/plain": [
       "'28ad828107844865b6ddb227dc47b6d7'"
      ]
     },
     "execution_count": 16,
     "metadata": {},
     "output_type": "execute_result"
    }
   ],
   "source": [
    "my_traces.hex"
   ]
  },
  {
   "cell_type": "code",
   "execution_count": 17,
   "metadata": {},
   "outputs": [
    {
     "data": {
      "text/html": [
       "<div>\n",
       "<style scoped>\n",
       "    .dataframe tbody tr th:only-of-type {\n",
       "        vertical-align: middle;\n",
       "    }\n",
       "\n",
       "    .dataframe tbody tr th {\n",
       "        vertical-align: top;\n",
       "    }\n",
       "\n",
       "    .dataframe thead th {\n",
       "        text-align: right;\n",
       "    }\n",
       "</style>\n",
       "<table border=\"1\" class=\"dataframe\">\n",
       "  <thead>\n",
       "    <tr style=\"text-align: right;\">\n",
       "      <th></th>\n",
       "      <th>name</th>\n",
       "      <th>span_kind</th>\n",
       "      <th>parent_id</th>\n",
       "      <th>start_time</th>\n",
       "      <th>end_time</th>\n",
       "      <th>status_code</th>\n",
       "      <th>status_message</th>\n",
       "      <th>events</th>\n",
       "      <th>conversation</th>\n",
       "      <th>context.trace_id</th>\n",
       "      <th>context.span_id</th>\n",
       "      <th>attributes.embedding.embeddings</th>\n",
       "      <th>attributes.embedding.model_name</th>\n",
       "    </tr>\n",
       "    <tr>\n",
       "      <th>context.span_id</th>\n",
       "      <th></th>\n",
       "      <th></th>\n",
       "      <th></th>\n",
       "      <th></th>\n",
       "      <th></th>\n",
       "      <th></th>\n",
       "      <th></th>\n",
       "      <th></th>\n",
       "      <th></th>\n",
       "      <th></th>\n",
       "      <th></th>\n",
       "      <th></th>\n",
       "      <th></th>\n",
       "    </tr>\n",
       "  </thead>\n",
       "  <tbody>\n",
       "    <tr>\n",
       "      <th>f3af7c71a9716557</th>\n",
       "      <td>embedding</td>\n",
       "      <td>EMBEDDING</td>\n",
       "      <td>None</td>\n",
       "      <td>2024-04-15T09:08:10.420547+00:00</td>\n",
       "      <td>2024-04-15T09:08:11.650588+00:00</td>\n",
       "      <td>OK</td>\n",
       "      <td></td>\n",
       "      <td>[]</td>\n",
       "      <td>None</td>\n",
       "      <td>ccd06ddaae16c1afb2b853edba001779</td>\n",
       "      <td>f3af7c71a9716557</td>\n",
       "      <td>[{'embedding.vector': [-0.027629341930150986, ...</td>\n",
       "      <td>text-embedding-3-small</td>\n",
       "    </tr>\n",
       "  </tbody>\n",
       "</table>\n",
       "</div>"
      ],
      "text/plain": [
       "                       name  span_kind parent_id  \\\n",
       "context.span_id                                    \n",
       "f3af7c71a9716557  embedding  EMBEDDING      None   \n",
       "\n",
       "                                        start_time  \\\n",
       "context.span_id                                      \n",
       "f3af7c71a9716557  2024-04-15T09:08:10.420547+00:00   \n",
       "\n",
       "                                          end_time status_code status_message  \\\n",
       "context.span_id                                                                 \n",
       "f3af7c71a9716557  2024-04-15T09:08:11.650588+00:00          OK                  \n",
       "\n",
       "                 events conversation                  context.trace_id  \\\n",
       "context.span_id                                                          \n",
       "f3af7c71a9716557     []         None  ccd06ddaae16c1afb2b853edba001779   \n",
       "\n",
       "                   context.span_id  \\\n",
       "context.span_id                      \n",
       "f3af7c71a9716557  f3af7c71a9716557   \n",
       "\n",
       "                                    attributes.embedding.embeddings  \\\n",
       "context.span_id                                                       \n",
       "f3af7c71a9716557  [{'embedding.vector': [-0.027629341930150986, ...   \n",
       "\n",
       "                 attributes.embedding.model_name  \n",
       "context.span_id                                   \n",
       "f3af7c71a9716557          text-embedding-3-small  "
      ]
     },
     "execution_count": 17,
     "metadata": {},
     "output_type": "execute_result"
    }
   ],
   "source": [
    "px.Client().query_spans(project_name=\"indexing\").head(n=1)\n"
   ]
  },
  {
   "cell_type": "code",
   "execution_count": 18,
   "metadata": {},
   "outputs": [
    {
     "data": {
      "text/plain": [
       "context.span_id\n",
       "f3af7c71a9716557    [{'embedding.vector': [-0.027629341930150986, ...\n",
       "ed3fde2f556ccd12                                                  NaN\n",
       "72340bc8c5ac77f6                                                  NaN\n",
       "45215b0e738e9995                                                  NaN\n",
       "e2bddbb7eca1e0ae                                                  NaN\n",
       "7d7ff000fee46a44                                                  NaN\n",
       "d42220f7ed7e1b74                                                  NaN\n",
       "97e18f2244914661                                                  NaN\n",
       "87c35398bbe9b28d                                                  NaN\n",
       "819737c0fd20e377                                                  NaN\n",
       "351a74b2ed6b92db                                                  NaN\n",
       "72333dda20dfb507                                                  NaN\n",
       "37bc8812194fcb60                                                  NaN\n",
       "acd90611d8927ab9                                                  NaN\n",
       "f1f6c4ce8d327acc                                                  NaN\n",
       "70edaebce48934fe                                                  NaN\n",
       "bb79f390c69c1496                                                  NaN\n",
       "86b46628a4ce33b9                                                  NaN\n",
       "e0d62b3ab1a8b16d                                                  NaN\n",
       "1ad63252235e0bf9                                                  NaN\n",
       "c81d494a3ea4b767                                                  NaN\n",
       "cf812219179020bc                                                  NaN\n",
       "db2ac858e8da428b                                                  NaN\n",
       "53b24974ae9d1f5a                                                  NaN\n",
       "8cae11d06cdfb1cb                                                  NaN\n",
       "3dd18d2f0ca0c154                                                  NaN\n",
       "f82fdc5a23354853                                                  NaN\n",
       "a388096b522ddf80                                                  NaN\n",
       "e5c6eb49ed0bd816                                                  NaN\n",
       "992e08811e851d7b                                                  NaN\n",
       "b0c22ff3aa75c05a                                                  NaN\n",
       "2efb5e9e19c0c893                                                  NaN\n",
       "fe11682d66557851                                                  NaN\n",
       "1ec55ae598efb5b8                                                  NaN\n",
       "b2f3334476090738                                                  NaN\n",
       "a4416fef15a90021                                                  NaN\n",
       "ff49f70a385d5635                                                  NaN\n",
       "8f8d0fa5235e9af6                                                  NaN\n",
       "efc793f27a94c5d1                                                  NaN\n",
       "2cf20d3b85d0379d                                                  NaN\n",
       "7fabd1e28a378f86                                                  NaN\n",
       "7862c88dfac99aff                                                  NaN\n",
       "2e97cee9e35663a0                                                  NaN\n",
       "Name: attributes.embedding.embeddings, dtype: object"
      ]
     },
     "execution_count": 18,
     "metadata": {},
     "output_type": "execute_result"
    }
   ],
   "source": [
    "px.Client().query_spans(project_name=\"indexing\")[\"attributes.embedding.embeddings\"]"
   ]
  },
  {
   "cell_type": "markdown",
   "metadata": {},
   "source": [
    "Embeddings to dataframe for use in visualization"
   ]
  },
  {
   "cell_type": "code",
   "execution_count": 19,
   "metadata": {},
   "outputs": [
    {
     "data": {
      "text/html": [
       "<div>\n",
       "<style scoped>\n",
       "    .dataframe tbody tr th:only-of-type {\n",
       "        vertical-align: middle;\n",
       "    }\n",
       "\n",
       "    .dataframe tbody tr th {\n",
       "        vertical-align: top;\n",
       "    }\n",
       "\n",
       "    .dataframe thead th {\n",
       "        text-align: right;\n",
       "    }\n",
       "</style>\n",
       "<table border=\"1\" class=\"dataframe\">\n",
       "  <thead>\n",
       "    <tr style=\"text-align: right;\">\n",
       "      <th></th>\n",
       "      <th></th>\n",
       "      <th>text</th>\n",
       "      <th>vector</th>\n",
       "    </tr>\n",
       "    <tr>\n",
       "      <th>context.span_id</th>\n",
       "      <th>position</th>\n",
       "      <th></th>\n",
       "      <th></th>\n",
       "    </tr>\n",
       "  </thead>\n",
       "  <tbody>\n",
       "    <tr>\n",
       "      <th rowspan=\"5\" valign=\"top\">f3af7c71a9716557</th>\n",
       "      <th>0</th>\n",
       "      <td>page_label: 1\\nfile_path: /home/peter-legion-w...</td>\n",
       "      <td>[-0.027629341930150986, 0.0020648075733333826,...</td>\n",
       "    </tr>\n",
       "    <tr>\n",
       "      <th>1</th>\n",
       "      <td>page_label: 2\\nfile_path: /home/peter-legion-w...</td>\n",
       "      <td>[-0.008014542050659657, -0.0056237997487187386...</td>\n",
       "    </tr>\n",
       "    <tr>\n",
       "      <th>2</th>\n",
       "      <td>page_label: 2\\nfile_path: /home/peter-legion-w...</td>\n",
       "      <td>[0.022452350705862045, 0.012023705057799816, 0...</td>\n",
       "    </tr>\n",
       "    <tr>\n",
       "      <th>3</th>\n",
       "      <td>page_label: 3\\nfile_path: /home/peter-legion-w...</td>\n",
       "      <td>[-0.004942848347127438, -0.01833670400083065, ...</td>\n",
       "    </tr>\n",
       "    <tr>\n",
       "      <th>4</th>\n",
       "      <td>page_label: 3\\nfile_path: /home/peter-legion-w...</td>\n",
       "      <td>[-0.0169712845236063, 0.0017904225969687104, 0...</td>\n",
       "    </tr>\n",
       "  </tbody>\n",
       "</table>\n",
       "</div>"
      ],
      "text/plain": [
       "                                                                        text  \\\n",
       "context.span_id  position                                                      \n",
       "f3af7c71a9716557 0         page_label: 1\\nfile_path: /home/peter-legion-w...   \n",
       "                 1         page_label: 2\\nfile_path: /home/peter-legion-w...   \n",
       "                 2         page_label: 2\\nfile_path: /home/peter-legion-w...   \n",
       "                 3         page_label: 3\\nfile_path: /home/peter-legion-w...   \n",
       "                 4         page_label: 3\\nfile_path: /home/peter-legion-w...   \n",
       "\n",
       "                                                                      vector  \n",
       "context.span_id  position                                                     \n",
       "f3af7c71a9716557 0         [-0.027629341930150986, 0.0020648075733333826,...  \n",
       "                 1         [-0.008014542050659657, -0.0056237997487187386...  \n",
       "                 2         [0.022452350705862045, 0.012023705057799816, 0...  \n",
       "                 3         [-0.004942848347127438, -0.01833670400083065, ...  \n",
       "                 4         [-0.0169712845236063, 0.0017904225969687104, 0...  "
      ]
     },
     "execution_count": 19,
     "metadata": {},
     "output_type": "execute_result"
    }
   ],
   "source": [
    "from phoenix.trace.dsl.helpers import SpanQuery\n",
    "\n",
    "client = px.Client()\n",
    "corpus_df = px.Client().query_spans(\n",
    "    SpanQuery().explode(\n",
    "        \"embedding.embeddings\",\n",
    "        text=\"embedding.text\",\n",
    "        vector=\"embedding.vector\",\n",
    "    ),\n",
    "    project_name=\"indexing\",\n",
    ")\n",
    "corpus_df.head()"
   ]
  },
  {
   "cell_type": "code",
   "execution_count": 20,
   "metadata": {},
   "outputs": [
    {
     "data": {
      "text/html": [
       "<div>\n",
       "<style scoped>\n",
       "    .dataframe tbody tr th:only-of-type {\n",
       "        vertical-align: middle;\n",
       "    }\n",
       "\n",
       "    .dataframe tbody tr th {\n",
       "        vertical-align: top;\n",
       "    }\n",
       "\n",
       "    .dataframe thead th {\n",
       "        text-align: right;\n",
       "    }\n",
       "</style>\n",
       "<table border=\"1\" class=\"dataframe\">\n",
       "  <thead>\n",
       "    <tr style=\"text-align: right;\">\n",
       "      <th></th>\n",
       "      <th>Unnamed: 0</th>\n",
       "      <th>question</th>\n",
       "      <th>contexts</th>\n",
       "      <th>ground_truth</th>\n",
       "      <th>evolution_type</th>\n",
       "      <th>metadata</th>\n",
       "      <th>episode_done</th>\n",
       "    </tr>\n",
       "  </thead>\n",
       "  <tbody>\n",
       "    <tr>\n",
       "      <th>0</th>\n",
       "      <td>0</td>\n",
       "      <td>What aspects of training strategies are discus...</td>\n",
       "      <td>['ment aims to improve the scalability and eff...</td>\n",
       "      <td>The context discusses aspects of training stra...</td>\n",
       "      <td>simple</td>\n",
       "      <td>[{'page_label': '13', 'file_name': '2301.00234...</td>\n",
       "      <td>True</td>\n",
       "    </tr>\n",
       "    <tr>\n",
       "      <th>1</th>\n",
       "      <td>1</td>\n",
       "      <td>How did Li et al. (2023d) enhance long-range l...</td>\n",
       "      <td>[' (Zhou et al., 2023), and itera-\\ntive forwa...</td>\n",
       "      <td>Li et al. (2023d) enhanced long-range language...</td>\n",
       "      <td>simple</td>\n",
       "      <td>[{'page_label': '12', 'file_name': '2301.00234...</td>\n",
       "      <td>True</td>\n",
       "    </tr>\n",
       "  </tbody>\n",
       "</table>\n",
       "</div>"
      ],
      "text/plain": [
       "   Unnamed: 0                                           question  \\\n",
       "0           0  What aspects of training strategies are discus...   \n",
       "1           1  How did Li et al. (2023d) enhance long-range l...   \n",
       "\n",
       "                                            contexts  \\\n",
       "0  ['ment aims to improve the scalability and eff...   \n",
       "1  [' (Zhou et al., 2023), and itera-\\ntive forwa...   \n",
       "\n",
       "                                        ground_truth evolution_type  \\\n",
       "0  The context discusses aspects of training stra...         simple   \n",
       "1  Li et al. (2023d) enhanced long-range language...         simple   \n",
       "\n",
       "                                            metadata  episode_done  \n",
       "0  [{'page_label': '13', 'file_name': '2301.00234...          True  \n",
       "1  [{'page_label': '12', 'file_name': '2301.00234...          True  "
      ]
     },
     "execution_count": 20,
     "metadata": {},
     "output_type": "execute_result"
    }
   ],
   "source": [
    "test_df = pd.read_csv(f\"./data/{testset_hex}-testset.csv\")\n",
    "test_df.head()"
   ]
  },
  {
   "cell_type": "code",
   "execution_count": 21,
   "metadata": {},
   "outputs": [
    {
     "data": {
      "application/vnd.jupyter.widget-view+json": {
       "model_id": "c5cf2d8605504e8e97bec45959114dbe",
       "version_major": 2,
       "version_minor": 0
      },
      "text/plain": [
       "  0%|          | 0/2 [00:00<?, ?it/s]"
      ]
     },
     "metadata": {},
     "output_type": "display_data"
    },
    {
     "data": {
      "text/html": [
       "<div>\n",
       "<style scoped>\n",
       "    .dataframe tbody tr th:only-of-type {\n",
       "        vertical-align: middle;\n",
       "    }\n",
       "\n",
       "    .dataframe tbody tr th {\n",
       "        vertical-align: top;\n",
       "    }\n",
       "\n",
       "    .dataframe thead th {\n",
       "        text-align: right;\n",
       "    }\n",
       "</style>\n",
       "<table border=\"1\" class=\"dataframe\">\n",
       "  <thead>\n",
       "    <tr style=\"text-align: right;\">\n",
       "      <th></th>\n",
       "      <th>question</th>\n",
       "      <th>answer</th>\n",
       "      <th>contexts</th>\n",
       "      <th>ground_truth</th>\n",
       "    </tr>\n",
       "  </thead>\n",
       "  <tbody>\n",
       "    <tr>\n",
       "      <th>0</th>\n",
       "      <td>What aspects of training strategies are discus...</td>\n",
       "      <td>Supervised in-context training strategies disc...</td>\n",
       "      <td>[In-context LearningTraining Warmup (§4)Superv...</td>\n",
       "      <td>The context discusses aspects of training stra...</td>\n",
       "    </tr>\n",
       "    <tr>\n",
       "      <th>1</th>\n",
       "      <td>How did Li et al. (2023d) enhance long-range l...</td>\n",
       "      <td>Li et al. (2023d) enhanced long-range language...</td>\n",
       "      <td>[2022. Lamda: Language mod-\\nels for dialog ap...</td>\n",
       "      <td>Li et al. (2023d) enhanced long-range language...</td>\n",
       "    </tr>\n",
       "  </tbody>\n",
       "</table>\n",
       "</div>"
      ],
      "text/plain": [
       "                                            question  \\\n",
       "0  What aspects of training strategies are discus...   \n",
       "1  How did Li et al. (2023d) enhance long-range l...   \n",
       "\n",
       "                                              answer  \\\n",
       "0  Supervised in-context training strategies disc...   \n",
       "1  Li et al. (2023d) enhanced long-range language...   \n",
       "\n",
       "                                            contexts  \\\n",
       "0  [In-context LearningTraining Warmup (§4)Superv...   \n",
       "1  [2022. Lamda: Language mod-\\nels for dialog ap...   \n",
       "\n",
       "                                        ground_truth  \n",
       "0  The context discusses aspects of training stra...  \n",
       "1  Li et al. (2023d) enhanced long-range language...  "
      ]
     },
     "execution_count": 21,
     "metadata": {},
     "output_type": "execute_result"
    }
   ],
   "source": [
    "import pandas as pd\n",
    "from datasets import Dataset\n",
    "from phoenix.trace import using_project\n",
    "from tqdm.auto import tqdm\n",
    "\n",
    "\n",
    "def generate_response(query_engine, question):\n",
    "    response = query_engine.query(question)\n",
    "    return {\n",
    "        \"answer\": response.response,\n",
    "        \"contexts\": [c.node.get_content() for c in response.source_nodes],\n",
    "    }\n",
    "\n",
    "\n",
    "def generate_ragas_dataset(query_engine, test_df):\n",
    "    test_questions = test_df[\"question\"].values\n",
    "    responses = [generate_response(query_engine, q) for q in tqdm(test_questions)]\n",
    "\n",
    "    dataset_dict = {\n",
    "        \"question\": test_questions,\n",
    "        \"answer\": [response[\"answer\"] for response in responses],\n",
    "        \"contexts\": [response[\"contexts\"] for response in responses],\n",
    "        \"ground_truth\": test_df[\"ground_truth\"].values.tolist(),\n",
    "    }\n",
    "    ds = Dataset.from_dict(dataset_dict)\n",
    "    return ds\n",
    "\n",
    "\n",
    "with using_project(\"llama-index\"):\n",
    "    ragas_eval_dataset = generate_ragas_dataset(query_engine, test_df)\n",
    "\n",
    "ragas_evals_df = pd.DataFrame(ragas_eval_dataset)\n",
    "ragas_evals_df.head()"
   ]
  },
  {
   "cell_type": "markdown",
   "metadata": {},
   "source": [
    "#### Query Embeds => DF for vis."
   ]
  },
  {
   "cell_type": "code",
   "execution_count": 22,
   "metadata": {},
   "outputs": [
    {
     "data": {
      "text/html": [
       "<div>\n",
       "<style scoped>\n",
       "    .dataframe tbody tr th:only-of-type {\n",
       "        vertical-align: middle;\n",
       "    }\n",
       "\n",
       "    .dataframe tbody tr th {\n",
       "        vertical-align: top;\n",
       "    }\n",
       "\n",
       "    .dataframe thead th {\n",
       "        text-align: right;\n",
       "    }\n",
       "</style>\n",
       "<table border=\"1\" class=\"dataframe\">\n",
       "  <thead>\n",
       "    <tr style=\"text-align: right;\">\n",
       "      <th></th>\n",
       "      <th></th>\n",
       "      <th>text</th>\n",
       "      <th>vector</th>\n",
       "    </tr>\n",
       "    <tr>\n",
       "      <th>context.span_id</th>\n",
       "      <th>position</th>\n",
       "      <th></th>\n",
       "      <th></th>\n",
       "    </tr>\n",
       "  </thead>\n",
       "  <tbody>\n",
       "    <tr>\n",
       "      <th>705192fc8365722f</th>\n",
       "      <th>0</th>\n",
       "      <td>How did Li et al. (2023d) enhance long-range l...</td>\n",
       "      <td>[0.01767698861658573, -0.02579161524772644, 0....</td>\n",
       "    </tr>\n",
       "    <tr>\n",
       "      <th>179e419e17d2b0d4</th>\n",
       "      <th>0</th>\n",
       "      <td>What aspects of training strategies are discus...</td>\n",
       "      <td>[-0.04597451165318489, 0.020289277657866478, 0...</td>\n",
       "    </tr>\n",
       "  </tbody>\n",
       "</table>\n",
       "</div>"
      ],
      "text/plain": [
       "                                                                        text  \\\n",
       "context.span_id  position                                                      \n",
       "705192fc8365722f 0         How did Li et al. (2023d) enhance long-range l...   \n",
       "179e419e17d2b0d4 0         What aspects of training strategies are discus...   \n",
       "\n",
       "                                                                      vector  \n",
       "context.span_id  position                                                     \n",
       "705192fc8365722f 0         [0.01767698861658573, -0.02579161524772644, 0....  \n",
       "179e419e17d2b0d4 0         [-0.04597451165318489, 0.020289277657866478, 0...  "
      ]
     },
     "execution_count": 22,
     "metadata": {},
     "output_type": "execute_result"
    }
   ],
   "source": [
    "# dataset containing embeddings for visualization\n",
    "query_embeddings_df = px.Client().query_spans(\n",
    "    SpanQuery().explode(\"embedding.embeddings\", text=\"embedding.text\", vector=\"embedding.vector\"),\n",
    "    project_name=\"llama-index\",\n",
    ")\n",
    "query_embeddings_df.head()"
   ]
  },
  {
   "cell_type": "code",
   "execution_count": 23,
   "metadata": {},
   "outputs": [
    {
     "data": {
      "text/html": [
       "<div>\n",
       "<style scoped>\n",
       "    .dataframe tbody tr th:only-of-type {\n",
       "        vertical-align: middle;\n",
       "    }\n",
       "\n",
       "    .dataframe tbody tr th {\n",
       "        vertical-align: top;\n",
       "    }\n",
       "\n",
       "    .dataframe thead th {\n",
       "        text-align: right;\n",
       "    }\n",
       "</style>\n",
       "<table border=\"1\" class=\"dataframe\">\n",
       "  <thead>\n",
       "    <tr style=\"text-align: right;\">\n",
       "      <th></th>\n",
       "      <th>input</th>\n",
       "      <th>output</th>\n",
       "      <th>reference</th>\n",
       "    </tr>\n",
       "    <tr>\n",
       "      <th>context.span_id</th>\n",
       "      <th></th>\n",
       "      <th></th>\n",
       "      <th></th>\n",
       "    </tr>\n",
       "  </thead>\n",
       "  <tbody>\n",
       "    <tr>\n",
       "      <th>51cc20b4798719e5</th>\n",
       "      <td>How did Li et al. (2023d) enhance long-range l...</td>\n",
       "      <td>Li et al. (2023d) enhanced long-range language...</td>\n",
       "      <td>2022. Lamda: Language mod-\\nels for dialog app...</td>\n",
       "    </tr>\n",
       "    <tr>\n",
       "      <th>e586fb8107e71bac</th>\n",
       "      <td>What aspects of training strategies are discus...</td>\n",
       "      <td>Supervised in-context training strategies disc...</td>\n",
       "      <td>In-context LearningTraining Warmup (§4)Supervi...</td>\n",
       "    </tr>\n",
       "  </tbody>\n",
       "</table>\n",
       "</div>"
      ],
      "text/plain": [
       "                                                              input  \\\n",
       "context.span_id                                                       \n",
       "51cc20b4798719e5  How did Li et al. (2023d) enhance long-range l...   \n",
       "e586fb8107e71bac  What aspects of training strategies are discus...   \n",
       "\n",
       "                                                             output  \\\n",
       "context.span_id                                                       \n",
       "51cc20b4798719e5  Li et al. (2023d) enhanced long-range language...   \n",
       "e586fb8107e71bac  Supervised in-context training strategies disc...   \n",
       "\n",
       "                                                          reference  \n",
       "context.span_id                                                      \n",
       "51cc20b4798719e5  2022. Lamda: Language mod-\\nels for dialog app...  \n",
       "e586fb8107e71bac  In-context LearningTraining Warmup (§4)Supervi...  "
      ]
     },
     "execution_count": 23,
     "metadata": {},
     "output_type": "execute_result"
    }
   ],
   "source": [
    "\n",
    "from phoenix.session.evaluation import get_qa_with_reference\n",
    "\n",
    "# dataset containing span data for evaluation with Ragas\n",
    "spans_dataframe = get_qa_with_reference(client, project_name=\"llama-index\")\n",
    "spans_dataframe.head()"
   ]
  },
  {
   "cell_type": "markdown",
   "metadata": {},
   "source": [
    "#### Evaluate LLM Traces; Eval scores => DF"
   ]
  },
  {
   "cell_type": "code",
   "execution_count": 24,
   "metadata": {},
   "outputs": [
    {
     "data": {
      "application/vnd.jupyter.widget-view+json": {
       "model_id": "7a746ee50b404e02a2c54221090b37c2",
       "version_major": 2,
       "version_minor": 0
      },
      "text/plain": [
       "Evaluating:   0%|          | 0/8 [00:00<?, ?it/s]"
      ]
     },
     "metadata": {},
     "output_type": "display_data"
    }
   ],
   "source": [
    "\n",
    "from phoenix.trace import using_project\n",
    "from ragas import evaluate\n",
    "from ragas.metrics import (\n",
    "    answer_correctness,\n",
    "    context_precision,\n",
    "    context_recall,\n",
    "    faithfulness,\n",
    ")\n",
    "\n",
    "# Log the traces to the project \"ragas-evals\" just to view\n",
    "# how Ragas works under the hood\n",
    "with using_project(\"ragas-evals\"):\n",
    "    evaluation_result = evaluate(\n",
    "        dataset=ragas_eval_dataset,\n",
    "        metrics=[faithfulness, answer_correctness, context_recall, context_precision],\n",
    "    )\n",
    "eval_scores_df = pd.DataFrame(evaluation_result.scores)"
   ]
  },
  {
   "cell_type": "markdown",
   "metadata": {},
   "source": [
    "#### Submit Evals to Phoenix to make visible on spans"
   ]
  },
  {
   "cell_type": "code",
   "execution_count": 25,
   "metadata": {},
   "outputs": [],
   "source": [
    "from phoenix.trace import SpanEvaluations\n",
    "\n",
    "# Assign span ids to your ragas evaluation scores (needed so Phoenix knows where to attach the spans).\n",
    "eval_data_df = pd.DataFrame(evaluation_result.dataset)\n",
    "assert eval_data_df.question.to_list() == list(\n",
    "    reversed(spans_dataframe.input.to_list())  # The spans are in reverse order.\n",
    "), \"Phoenix spans are in an unexpected order. Re-start the notebook and try again.\"\n",
    "eval_scores_df.index = pd.Index(\n",
    "    list(reversed(spans_dataframe.index.to_list())), name=spans_dataframe.index.name\n",
    ")\n",
    "\n",
    "# Log the evaluations to Phoenix under the project \"llama-index\"\n",
    "# This will allow you to visualize the scores alongside the spans in the UI\n",
    "for eval_name in eval_scores_df.columns:\n",
    "    evals_df = eval_scores_df[[eval_name]].rename(columns={eval_name: \"score\"})\n",
    "    evals = SpanEvaluations(eval_name, evals_df)\n",
    "    px.Client().log_evaluations(evals, project_name=\"llama-index\")"
   ]
  },
  {
   "cell_type": "markdown",
   "metadata": {},
   "source": [
    "#### Visualize and Analyze Embeds"
   ]
  },
  {
   "cell_type": "code",
   "execution_count": 26,
   "metadata": {},
   "outputs": [
    {
     "data": {
      "text/html": [
       "<div>\n",
       "<style scoped>\n",
       "    .dataframe tbody tr th:only-of-type {\n",
       "        vertical-align: middle;\n",
       "    }\n",
       "\n",
       "    .dataframe tbody tr th {\n",
       "        vertical-align: top;\n",
       "    }\n",
       "\n",
       "    .dataframe thead th {\n",
       "        text-align: right;\n",
       "    }\n",
       "</style>\n",
       "<table border=\"1\" class=\"dataframe\">\n",
       "  <thead>\n",
       "    <tr style=\"text-align: right;\">\n",
       "      <th></th>\n",
       "      <th>question</th>\n",
       "      <th>answer</th>\n",
       "      <th>ground_truth</th>\n",
       "      <th>vector</th>\n",
       "      <th>evolution_type</th>\n",
       "      <th>faithfulness</th>\n",
       "      <th>answer_correctness</th>\n",
       "      <th>context_recall</th>\n",
       "      <th>context_precision</th>\n",
       "    </tr>\n",
       "  </thead>\n",
       "  <tbody>\n",
       "    <tr>\n",
       "      <th>0</th>\n",
       "      <td>What aspects of training strategies are discus...</td>\n",
       "      <td>Supervised in-context training strategies disc...</td>\n",
       "      <td>The context discusses aspects of training stra...</td>\n",
       "      <td>[-0.04597451165318489, 0.020289277657866478, 0...</td>\n",
       "      <td>simple</td>\n",
       "      <td>0.8</td>\n",
       "      <td>0.727399</td>\n",
       "      <td>1.0</td>\n",
       "      <td>1.0</td>\n",
       "    </tr>\n",
       "    <tr>\n",
       "      <th>1</th>\n",
       "      <td>How did Li et al. (2023d) enhance long-range l...</td>\n",
       "      <td>Li et al. (2023d) enhanced long-range language...</td>\n",
       "      <td>Li et al. (2023d) enhanced long-range language...</td>\n",
       "      <td>[0.01767698861658573, -0.02579161524772644, 0....</td>\n",
       "      <td>simple</td>\n",
       "      <td>1.0</td>\n",
       "      <td>0.616301</td>\n",
       "      <td>0.0</td>\n",
       "      <td>0.5</td>\n",
       "    </tr>\n",
       "  </tbody>\n",
       "</table>\n",
       "</div>"
      ],
      "text/plain": [
       "                                            question  \\\n",
       "0  What aspects of training strategies are discus...   \n",
       "1  How did Li et al. (2023d) enhance long-range l...   \n",
       "\n",
       "                                              answer  \\\n",
       "0  Supervised in-context training strategies disc...   \n",
       "1  Li et al. (2023d) enhanced long-range language...   \n",
       "\n",
       "                                        ground_truth  \\\n",
       "0  The context discusses aspects of training stra...   \n",
       "1  Li et al. (2023d) enhanced long-range language...   \n",
       "\n",
       "                                              vector evolution_type  \\\n",
       "0  [-0.04597451165318489, 0.020289277657866478, 0...         simple   \n",
       "1  [0.01767698861658573, -0.02579161524772644, 0....         simple   \n",
       "\n",
       "   faithfulness  answer_correctness  context_recall  context_precision  \n",
       "0           0.8            0.727399             1.0                1.0  \n",
       "1           1.0            0.616301             0.0                0.5  "
      ]
     },
     "execution_count": 26,
     "metadata": {},
     "output_type": "execute_result"
    }
   ],
   "source": [
    "query_embeddings_df = query_embeddings_df.iloc[::-1]\n",
    "assert ragas_evals_df.question.tolist() == query_embeddings_df.text.tolist()\n",
    "assert test_df.question.tolist() == ragas_evals_df.question.tolist()\n",
    "query_df = pd.concat(\n",
    "    [\n",
    "        ragas_evals_df[[\"question\", \"answer\", \"ground_truth\"]].reset_index(drop=True),\n",
    "        query_embeddings_df[[\"vector\"]].reset_index(drop=True),\n",
    "        test_df[[\"evolution_type\"]],\n",
    "        eval_scores_df.reset_index(drop=True),\n",
    "    ],\n",
    "    axis=1,\n",
    ")\n",
    "query_df.head()"
   ]
  },
  {
   "cell_type": "code",
   "execution_count": 27,
   "metadata": {},
   "outputs": [
    {
     "name": "stdout",
     "output_type": "stream",
     "text": [
      "🌍 To view the Phoenix app in your browser, visit http://localhost:6006/\n",
      "📺 To view the Phoenix app in a notebook, run `px.active_session().view()`\n",
      "📖 For more information on how to use Phoenix, check out https://docs.arize.com/phoenix\n"
     ]
    }
   ],
   "source": [
    "\n",
    "query_schema = px.Schema(\n",
    "    prompt_column_names=px.EmbeddingColumnNames(\n",
    "        raw_data_column_name=\"question\", vector_column_name=\"vector\"\n",
    "    ),\n",
    "    response_column_names=\"answer\",\n",
    ")\n",
    "corpus_schema = px.Schema(\n",
    "    prompt_column_names=px.EmbeddingColumnNames(\n",
    "        raw_data_column_name=\"text\", vector_column_name=\"vector\"\n",
    "    )\n",
    ")\n",
    "# relaunch phoenix with a primary and corpus dataset to view embeddings\n",
    "px.close_app()\n",
    "session = px.launch_app(\n",
    "    primary=px.Inferences(query_df, query_schema, \"query\"),\n",
    "    corpus=px.Inferences(corpus_df.reset_index(drop=True), corpus_schema, \"corpus\"),\n",
    ")\n",
    "   "
   ]
  },
  {
   "cell_type": "code",
   "execution_count": null,
   "metadata": {},
   "outputs": [],
   "source": []
  },
  {
   "cell_type": "code",
   "execution_count": null,
   "metadata": {},
   "outputs": [],
   "source": []
  }
 ],
 "metadata": {
  "kernelspec": {
   "display_name": ".venv",
   "language": "python",
   "name": "python3"
  },
  "language_info": {
   "codemirror_mode": {
    "name": "ipython",
    "version": 3
   },
   "file_extension": ".py",
   "mimetype": "text/x-python",
   "name": "python",
   "nbconvert_exporter": "python",
   "pygments_lexer": "ipython3",
   "version": "3.10.12"
  }
 },
 "nbformat": 4,
 "nbformat_minor": 2
}
