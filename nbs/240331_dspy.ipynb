{
 "cells": [
  {
   "cell_type": "code",
   "execution_count": 1,
   "metadata": {},
   "outputs": [],
   "source": [
    "import dspy\n",
    "import os\n",
    "from dotenv import load_dotenv"
   ]
  },
  {
   "cell_type": "code",
   "execution_count": 2,
   "metadata": {},
   "outputs": [
    {
     "data": {
      "text/plain": [
       "True"
      ]
     },
     "execution_count": 2,
     "metadata": {},
     "output_type": "execute_result"
    }
   ],
   "source": [
    "load_dotenv()"
   ]
  },
  {
   "cell_type": "code",
   "execution_count": 50,
   "metadata": {},
   "outputs": [],
   "source": [
    "# llm = dspy.OpenAI(model='gpt-3.5-turbo-0125', api_key=OPENAI_API_KEY, max_tokens=300)\n",
    "llm = dspy.OllamaLocal(\"zephyr-7b-beta\", model_type=\"text\", stop=['\\n\\n'], max_tokens=300)\n",
    "dspy.settings.configure(lm=llm, temperature=0.7)"
   ]
  },
  {
   "cell_type": "code",
   "execution_count": 51,
   "metadata": {},
   "outputs": [
    {
     "data": {
      "text/plain": [
       "[\"\\ni'm doing well, thanks for asking. I hope you're doing okay too!\"]"
      ]
     },
     "execution_count": 51,
     "metadata": {},
     "output_type": "execute_result"
    }
   ],
   "source": [
    "llm(\"hi how are you?\")"
   ]
  },
  {
   "cell_type": "markdown",
   "metadata": {},
   "source": [
    "## Signatures"
   ]
  },
  {
   "cell_type": "markdown",
   "metadata": {},
   "source": [
    "#### Sentiment Classification "
   ]
  },
  {
   "cell_type": "code",
   "execution_count": 30,
   "metadata": {},
   "outputs": [
    {
     "data": {
      "text/plain": [
       "'positive'"
      ]
     },
     "execution_count": 30,
     "metadata": {},
     "output_type": "execute_result"
    }
   ],
   "source": [
    "sentence = \"it's a charming and often affecting journey.\"  # example from the SST-2 dataset.\n",
    "\n",
    "classify = dspy.Predict('sentence -> sentiment')\n",
    "classify(sentence=sentence).sentiment"
   ]
  },
  {
   "cell_type": "code",
   "execution_count": 31,
   "metadata": {},
   "outputs": [
    {
     "name": "stdout",
     "output_type": "stream",
     "text": [
      "\n",
      "\n",
      "\n",
      "\n",
      "Given the fields `sentence`, produce the fields `sentiment`.\n",
      "\n",
      "---\n",
      "\n",
      "Follow the following format.\n",
      "\n",
      "Sentence: ${sentence}\n",
      "Sentiment: ${sentiment}\n",
      "\n",
      "---\n",
      "\n",
      "Sentence: it's a charming and often affecting journey.\n",
      "Sentiment:\u001b[32m positive\u001b[0m\n",
      "\n",
      "\n",
      "\n"
     ]
    }
   ],
   "source": [
    "llm.inspect_history(n=1)"
   ]
  },
  {
   "cell_type": "code",
   "execution_count": 32,
   "metadata": {},
   "outputs": [
    {
     "data": {
      "text/plain": [
       "'qxhjgkzl'"
      ]
     },
     "execution_count": 32,
     "metadata": {},
     "output_type": "execute_result"
    }
   ],
   "source": [
    "short_story = dspy.Predict('sentence -> random_characters')\n",
    "short_story(sentence=sentence).random_characters"
   ]
  },
  {
   "cell_type": "markdown",
   "metadata": {},
   "source": [
    "#### Summarization"
   ]
  },
  {
   "cell_type": "code",
   "execution_count": 33,
   "metadata": {},
   "outputs": [
    {
     "name": "stdout",
     "output_type": "stream",
     "text": [
      "The 21-year-old footballer, who played seven times for West Ham United last season and scored against FC Lustrains in a Europa League qualifier, had loan spells at Blackpool and Colchester United during the same campaign. He netted twice for Colchester but they were relegated. The youngster has now signed for a promoted team, but the length of his contract is unknown.\n"
     ]
    }
   ],
   "source": [
    "# Example from the XSum dataset.\n",
    "document = \"\"\"The 21-year-old made seven appearances for the Hammers and netted his only goal for them in a Europa League qualification round match against Andorran side FC Lustrains last season. Lee had two loan spells in League One last term, with Blackpool and then Colchester United. He scored twice for the U's but was unable to save them from relegation. The length of Lee's contract with the promoted Tykes has not been revealed. Find all the latest football transfers on our dedicated page.\"\"\"\n",
    "\n",
    "summarize = dspy.ChainOfThought('document -> summary')\n",
    "response = summarize(document=document)\n",
    "\n",
    "print(response.summary)"
   ]
  },
  {
   "cell_type": "code",
   "execution_count": 35,
   "metadata": {},
   "outputs": [
    {
     "name": "stdout",
     "output_type": "stream",
     "text": [
      "\n",
      "\n",
      "\n",
      "\n",
      "Given the fields `document`, produce the fields `summary`.\n",
      "\n",
      "---\n",
      "\n",
      "Follow the following format.\n",
      "\n",
      "Document: ${document}\n",
      "Reasoning: Let's think step by step in order to ${produce the summary}. We ...\n",
      "Summary: ${summary}\n",
      "\n",
      "---\n",
      "\n",
      "Document: The 21-year-old made seven appearances for the Hammers and netted his only goal for them in a Europa League qualification round match against Andorran side FC Lustrains last season. Lee had two loan spells in League One last term, with Blackpool and then Colchester United. He scored twice for the U's but was unable to save them from relegation. The length of Lee's contract with the promoted Tykes has not been revealed. Find all the latest football transfers on our dedicated page.\n",
      "Reasoning: Let's think step by step in order to\u001b[32m summarize the career of a young football player who recently signed for a promoted team. First, we need to know his age and previous clubs. He played seven times for West Ham United last season and scored one goal against FC Lustrains in a Europa League qualifier. Then, we should mention his loan spells at Blackpool and Colchester United during the same campaign. Lee scored twice for Colchester but they got relegated anyway. Finally, we can reveal that he has joined a promoted team, but we don't have any details about the length of his contract yet. By putting all this information together, we can create a concise summary of his recent career moves.\n",
      "Summary: The 21-year-old footballer, who played seven times for West Ham United last season and scored against FC Lustrains in a Europa League qualifier, had loan spells at Blackpool and Colchester United during the same campaign. He netted twice for Colchester but they were relegated. The youngster has now signed for a promoted team, but the length of his contract is unknown.\u001b[0m\n",
      "\n",
      "\n",
      "\n"
     ]
    }
   ],
   "source": [
    "llm.inspect_history(n=1)"
   ]
  },
  {
   "cell_type": "code",
   "execution_count": 36,
   "metadata": {},
   "outputs": [],
   "source": [
    "data = \"./data/dogs.txt\"\n",
    "with open(data, \"r\") as f:\n",
    "    document = f.read()"
   ]
  },
  {
   "cell_type": "code",
   "execution_count": 37,
   "metadata": {},
   "outputs": [
    {
     "name": "stdout",
     "output_type": "stream",
     "text": [
      "Feline Financial Bank is an exclusive bank for cats founded by Sir Purrington, with cat-friendly architecture, efficient tellers offering savings accounts and investment portfolios, and a high-security vault guarded by feline warriors. It's a symbol of feline independence and sophistication.\n"
     ]
    }
   ],
   "source": [
    "summarize = dspy.ChainOfThought('document -> tldr')\n",
    "response = summarize(document=document)\n",
    "\n",
    "print(response.tldr)"
   ]
  },
  {
   "cell_type": "markdown",
   "metadata": {},
   "source": [
    "#### Classification"
   ]
  },
  {
   "cell_type": "code",
   "execution_count": 38,
   "metadata": {},
   "outputs": [
    {
     "data": {
      "text/plain": [
       "Prediction(\n",
       "    sentiment='Fear'\n",
       ")"
      ]
     },
     "execution_count": 38,
     "metadata": {},
     "output_type": "execute_result"
    }
   ],
   "source": [
    "class Emotion(dspy.Signature):\n",
    "    \"\"\"Classify emotion among sadness, joy, love, anger, fear, surprise.\"\"\"\n",
    "    \n",
    "    sentence = dspy.InputField()\n",
    "    sentiment = dspy.OutputField()\n",
    "\n",
    "sentence = \"i started feeling a little vulnerable when the giant spotlight started blinding me\"  # from dair-ai/emotion\n",
    "\n",
    "classify = dspy.Predict(Emotion)\n",
    "classify(sentence=sentence)"
   ]
  },
  {
   "cell_type": "code",
   "execution_count": 39,
   "metadata": {},
   "outputs": [
    {
     "data": {
      "text/plain": [
       "Prediction(\n",
       "    weather='about to rain'\n",
       ")"
      ]
     },
     "execution_count": 39,
     "metadata": {},
     "output_type": "execute_result"
    }
   ],
   "source": [
    "class Weather(dspy.Signature):\n",
    "    \"\"\"Classify weather as rainy, sunny, or about to rain.\"\"\"\n",
    "\n",
    "    sentence = dspy.InputField()\n",
    "    weather = dspy.OutputField()\n",
    "\n",
    "sentence = \"They both were both very hungry and wanted to be home. Large dark clouds moved towards them from the horizon.\"\n",
    "\n",
    "classify = dspy.Predict(Weather)\n",
    "classify(sentence=sentence)"
   ]
  },
  {
   "cell_type": "markdown",
   "metadata": {},
   "source": [
    "#### A metric that evaluates faithfulness to citations "
   ]
  },
  {
   "cell_type": "code",
   "execution_count": 40,
   "metadata": {},
   "outputs": [
    {
     "data": {
      "text/plain": [
       "Prediction(\n",
       "    rationale='check if text is faithful to context.\\n1) We know that Lee played for Colchester United last season and he scored twice for them.\\n2) The text says \"Lee scored 3 goals for Colchester United\". This is not true, because Lee scored only two goals for Colchester United.\\n3) Therefore, the text is not faithful to context.',\n",
       "    faithfulness='False'\n",
       ")"
      ]
     },
     "execution_count": 40,
     "metadata": {},
     "output_type": "execute_result"
    }
   ],
   "source": [
    "class CheckCitationFaithfulness(dspy.Signature):\n",
    "    \"\"\"Verify that the text is based on the provided context.\"\"\"\n",
    "\n",
    "    context = dspy.InputField(desc=\"facts here are assumed to be true\")\n",
    "    text = dspy.InputField()\n",
    "    faithfulness = dspy.OutputField(desc=\"True/False indicating if text is faithful to context\")\n",
    "\n",
    "context = \"The 21-year-old made seven appearances for the Hammers and netted his only goal for them in a Europa League qualification round match against Andorran side FC Lustrains last season. Lee had two loan spells in League One last term, with Blackpool and then Colchester United. He scored twice for the U's but was unable to save them from relegation. The length of Lee's contract with the promoted Tykes has not been revealed. Find all the latest football transfers on our dedicated page.\"\n",
    "\n",
    "text = \"Lee scored 3 goals for Colchester United.\"\n",
    "\n",
    "faithfulness = dspy.ChainOfThought(CheckCitationFaithfulness)\n",
    "faithfulness(context=context, text=text)"
   ]
  },
  {
   "cell_type": "code",
   "execution_count": 41,
   "metadata": {},
   "outputs": [],
   "source": [
    "document = \"\"\"AMENDMENT OF SOLICITATION/MODIFICATION OF CONTRACT\n",
    "2. Amendment/Modification No.\n",
    "\n",
    "3. Effective Date\n",
    "\n",
    "0002\n",
    "\n",
    "4. Requisition/Purchase Req No.\n",
    "\n",
    "2024MAR15\n",
    "\n",
    "6. Issued By\n",
    "\n",
    "Code\n",
    "\n",
    "SPRDL1\n",
    "\n",
    "1. Contract ID Code\n",
    "\n",
    "Page\n",
    "\n",
    "1 Of 2\n",
    "\n",
    "Firm Fixed Price\n",
    "\n",
    "5. Project No. (If applicable)\n",
    "\n",
    "SEE SCHEDULE\n",
    "\n",
    "7. Administered By (If other than Item 6)\n",
    "\n",
    "Code\n",
    "\n",
    "DLA LAND WARREN\n",
    "MARCILLE NORDSTOG\n",
    "WARREN, MI 48397-5000\n",
    "\n",
    "EMAIL: MARCILLE.NORDSTOG@DLA.MIL\n",
    "\n",
    "8. Name And Address Of Contractor (No., Street, City, County, State and Zip Code)\n",
    "\n",
    "X\n",
    "\n",
    "9A. Amendment Of Solicitation No.\n",
    "SPRDL1-24-Q-0018\n",
    "\n",
    "9B. Dated (See Item 11)\n",
    "2024JAN03\n",
    "\n",
    "10A. Modification Of Contract/Order No.\n",
    "\n",
    "10B. Dated (See Item 13)\n",
    "Code\n",
    "\n",
    "Facility Code\n",
    "11. THIS ITEM ONLY APPLIES TO AMENDMENTS OF SOLICITATIONS\n",
    "\n",
    "X The above numbered solicitation is amended as set forth in item 14. The hour and date specified for receipt of Offers\n",
    "X is extended,\n",
    "is not extended. 2024APR02\n",
    "Offers must acknowledge receipt of this amendment prior to the hour and date specified in the solicitation or as amended by one of the following methods:\n",
    "(a) By completing items 8 and 15, and returning ____________\n",
    "2 signed copies of the amendments: (b) By acknowledging receipt of this amendment on each copy of the\n",
    "offer submitted; or (c) By separate letter or telegram which includes a reference to the solicitation and amendment numbers. FAILURE OF YOUR\n",
    "ACKNOWLEDGMENT TO BE RECEIVED AT THE PLACE DESIGNATED FOR THE RECEIPT OF OFFERS PRIOR TO THE HOUR AND DATE\n",
    "SPECIFIED MAY RESULT IN REJECTION OF YOUR OFFER. If by virtue of this amendment you desire to change an offer already submitted, such change\n",
    "may be made by telegram or letter, provided each telegram or letter makes reference to the solicitation and this amendment, and is received prior to the opening\n",
    "hour and date specified.\n",
    "12. Accounting And Appropriation Data (If required)\n",
    "\n",
    "13. THIS ITEM ONLY APPLIES TO MODIFICATIONS OF CONTRACTS/ORDERS\n",
    "It Modifies The Contract/Order No. As Described In Item 14.\n",
    "A. This Change Order is Issued Pursuant To:\n",
    "The Changes Set Forth In Item 14 Are Made In\n",
    "The Contract/Order No. In Item 10A.\n",
    "B. The Above Numbered Contract/Order Is Modified To Reflect The Administrative Changes (such as changes in paying office, appropriation data, etc.) Set\n",
    "Forth In Item 14, Pursuant To The Authority of FAR 43.103(b).\n",
    "C. This Supplemental Agreement Is Entered Into Pursuant To Authority Of:\n",
    "D. Other (Specify type of modification and authority)\n",
    "E. IMPORTANT: Contractor\n",
    "is not,\n",
    "is required to sign this document and return _______________ copies to the Issuing Office.\n",
    "14. Description Of Amendment/Modification (Organized by UCF section headings, including solicitation/contract subject matter where feasible.)\n",
    "SEE SECOND PAGE FOR DESCRIPTION\n",
    "\n",
    "Except as provided herein, all terms and conditions of the document referenced in item 9A or 10A, as heretofore changed, remains unchanged and in full force and\n",
    "effect.\n",
    "15A. Name And Title Of Signer (Type or print)\n",
    "16A. Name And Title Of Contracting Officer (Type or print)\n",
    "\n",
    "15B. Contractor/Offeror\n",
    "\n",
    "15C. Date Signed\n",
    "\n",
    "16B. United States Of America\n",
    "By\n",
    "\n",
    "(Signature of person authorized to sign)\n",
    "NSN 7540-01-152-8070\n",
    "PREVIOUS EDITIONS UNUSABLE\n",
    "\n",
    "30-105-02\n",
    "\n",
    "16C. Date Signed\n",
    "\n",
    "/SIGNED/\n",
    "\n",
    "(Signature of Contracting Officer)\n",
    "STANDARD FORM 30 (REV. 10-83)\n",
    "Prescribed by GSA FAR (48 CFR) 53.243\n",
    "\n",
    "\fCONTINUATION SHEET\n",
    "\n",
    "Reference No. of Document Being Continued\n",
    "\n",
    "Page\n",
    "\n",
    "SPRDL1-24-Q-0018\n",
    "\n",
    "PIIN/SIIN\n",
    "\n",
    "MOD/AMD 0002\n",
    "\n",
    "Name of Offeror or Contractor:\n",
    "SUPPLEMENTAL INFORMATION\n",
    "\n",
    "Buyer Name: MARCILLE NORDSTOG\n",
    "Buyer Office Symbol/Telephone Number: ZGAC/(586)467-1219\n",
    "Type of Contract 1: Firm Fixed Price\n",
    "Kind of Contract: Other\n",
    "\n",
    "*** End of Narrative A0000 ***\n",
    "Amendment 0002 to solicitation SPRDL1-24-R-0018 is to extend the solicitation due date from 14MAR2024 to 02APR2024.\n",
    "All other terms and conditions of the basic contract remain unchanged and in full force and effect.\n",
    "\n",
    "*** END OF NARRATIVE A0003 ***\n",
    "\n",
    "2\n",
    "\n",
    "of 2\"\"\""
   ]
  },
  {
   "cell_type": "code",
   "execution_count": 42,
   "metadata": {},
   "outputs": [
    {
     "data": {
      "text/plain": [
       "Prediction(\n",
       "    rationale='understand why this statement is true. First, we need to define what an amendment is. According to the text provided, an amendment is a change or modification made to a contract or solicitation. Second, we need to identify whether this document falls under the category of an amendment. In order to determine that, we need to analyze the content of this document in comparison with what an amendment typically entails.\\nIn this case, the statement \"This is not an amendment\" is true because this document does not contain any changes or modifications made to a contract or solicitation. The reason for that is because this document states that it is not an amendment. Therefore, since this document does not state that it contains any changes or modifications made to a contract or solicitation, then by default, we can conclude that this document falls under the category of something other than an amendment.\\nIn summary, in order for something to be considered as an amendment, it needs to contain some sort of change or modification made to a contract or solicitation. Since this document does not state that it contains any changes or modifications made to a contract or solicitation, then by default, we can conclude that this document falls under the category of something other than an amendment.',\n",
       "    document_class='Contract Amendment'\n",
       ")"
      ]
     },
     "execution_count": 42,
     "metadata": {},
     "output_type": "execute_result"
    }
   ],
   "source": [
    "class CheckDocumentClass(dspy.Signature):\n",
    "    \"\"\"Verify the document is not an amendment to a procurement soliciation.\"\"\"\n",
    "\n",
    "    context = dspy.InputField(desc=\"facts here are assumed to be true\")\n",
    "    text = dspy.InputField()\n",
    "    document_class = dspy.OutputField(desc=\"True/False indicatating if text is faithful to context\")\n",
    "\n",
    "context = document[:4000]\n",
    "\n",
    "text = \"This is not an amendment.\"\n",
    "\n",
    "document_class = dspy.ChainOfThought(CheckDocumentClass)\n",
    "document_class(context=context, text=text)"
   ]
  },
  {
   "cell_type": "markdown",
   "metadata": {},
   "source": [
    "************************"
   ]
  },
  {
   "cell_type": "code",
   "execution_count": 43,
   "metadata": {},
   "outputs": [
    {
     "data": {
      "text/plain": [
       "'AMENDMENT OF SOLICITATION/MODIFICATION OF CONTRACT\\n2. Amendment/Modification No.\\n\\n3. Effective Date\\n\\n0002\\n\\n4. Requisition/Purchase Req No.\\n\\n2024MAR15\\n\\n6. Issued By\\n\\nCode\\n\\nSPRDL1\\n\\n1. Contract ID Code\\n\\nPage\\n\\n1 Of 2\\n\\nFirm Fixed Price\\n\\n5. Project No. (If applicable)\\n\\nSEE SCHEDULE\\n\\n7. Administered By (If other than Item 6)\\n\\nCode\\n\\nDLA LAND WARREN\\nMARCILLE NORDSTOG\\nWARREN, MI 48397-5000\\n\\nEMAIL: MARCILLE.NORDSTOG@DLA.MIL\\n\\n8. Name And Address Of Contractor (No., Street, City, County, State and Zip Code)\\n\\nX\\n\\n9A. Amendment Of Solicitation No.\\nSPRDL1-24-Q-0018\\n\\n9B. Dated (See Item 11)\\n2024JAN03\\n\\n10A. Modification Of Contract/Order No.\\n\\n10B. Dated (See Item 13)\\nCode\\n\\nFacility Code\\n11. THIS ITEM ONLY APPLIES TO AMENDMENTS OF SOLICITATIONS\\n\\nX The above numbered solicitation is amended as set forth in item 14. The hour and date specified for receipt of Offers\\nX is extended,\\nis not extended. 2024APR02\\nOffers must acknowledge receipt of this amendment prior to the hour and date specified in the solicitation or as amended by one of the following methods:\\n(a) By completing items 8 and 15, and returning ____________\\n2 signed copies of the amendments: (b) By acknowledging receipt of this amendment on each copy of the\\noffer submitted; or (c) By separate letter or telegram which includes a reference to the solicitation and amendment numbers. FAILURE OF YOUR\\nACKNOWLEDGMENT TO BE RECEIVED AT THE PLACE DESIGNATED FOR THE RECEIPT OF OFFERS PRIOR TO THE HOUR AND DATE\\nSPECIFIED MAY RESULT IN REJECTION OF YOUR OFFER. If by virtue of this amendment you desire to change an offer already submitted, such change\\nmay be made by telegram or letter, provided each telegram or letter makes reference to the solicitation and this amendment, and is received prior to the opening\\nhour and date specified.\\n12. Accounting And Appropriation Data (If required)\\n\\n13. THIS ITEM ONLY APPLIES TO MODIFICATIONS OF CONTRACTS/ORDERS\\nIt Modifies The Contract/Order No. As Described In Item 14.\\nA. This Change Order is Issued Pursuant To:\\nThe Changes Set Forth In Item 14 Are Made In\\nThe Contract/Order No. In Item 10A.\\nB. The Above Numbered Contract/Order Is Modified To Reflect The Administrative Changes (such as changes in paying office, appropriation data, etc.) Set\\nForth In Item 14, Pursuant To The Authority of FAR 43.103(b).\\nC. This Supplemental Agreement Is Entered Into Pursuant To Authority Of:\\nD. Other (Specify type of modification and authority)\\nE. IMPORTANT: Contractor\\nis not,\\nis required to sign this document and return _______________ copies to the Issuing Office.\\n14. Description Of Amendment/Modification (Organized by UCF section headings, including solicitation/contract subject matter where feasible.)\\nSEE SECOND PAGE FOR DESCRIPTION\\n\\nExcept as provided herein, all terms and conditions of the document referenced in item 9A or 10A, as heretofore changed, remains unchanged and in full force and\\neffect.\\n15A. Name And Title Of Signer (Type or print)\\n16A. Name And Title Of Contracting Officer (Type or print)\\n\\n15B. Contractor/Offeror\\n\\n15C. Date Signed\\n\\n16B. United States Of America\\nBy\\n\\n(Signature of person authorized to sign)\\nNSN 7540-01-152-8070\\nPREVIOUS EDITIONS UNUSABLE\\n\\n30-105-02\\n\\n16C. Date Signed\\n\\n/SIGNED/\\n\\n(Signature of Contracting Officer)\\nSTANDARD FORM 30 (REV. 10-83)\\nPrescribed by GSA FAR (48 CFR) 53.243\\n\\n\\x0cCONTINUATION SHEET\\n\\nReference No. of Document Being Continued\\n\\nPage\\n\\nSPRDL1-24-Q-0018\\n\\nPIIN/SIIN\\n\\nMOD/AMD 0002\\n\\nName of Offeror or Contractor:\\nSUPPLEMENTAL INFORMATION\\n\\nBuyer Name: MARCILLE NORDSTOG\\nBuyer Office Symbol/Telephone Number: ZGAC/(586)467-1219\\nType of Contract 1: Firm Fixed Price\\nKind of Contract: Other\\n\\n*** End of Narrative A0000 ***\\nAmendment 0002 to solicitation SPRDL1-24-R-0018 is to extend the solicitation due date from 14MAR2024 to 02APR2024.\\nAll other terms and conditions of the basic contract remain unchanged and in full force and effect.\\n\\n*** END OF NARRATIVE A0003 ***\\n\\n2\\n\\nof 2'"
      ]
     },
     "execution_count": 43,
     "metadata": {},
     "output_type": "execute_result"
    }
   ],
   "source": [
    "document[:4000]"
   ]
  },
  {
   "cell_type": "code",
   "execution_count": 44,
   "metadata": {},
   "outputs": [
    {
     "name": "stdout",
     "output_type": "stream",
     "text": [
      "Hj hoy ar yew, mz nm zjohnston\n"
     ]
    }
   ],
   "source": [
    "obliterate = dspy.Predict('sentence -> nonsense')\n",
    "response = obliterate(sentence=\"Hi how are you, my name is Daniel Johnston\")\n",
    "print(response.nonsense)"
   ]
  },
  {
   "cell_type": "code",
   "execution_count": 45,
   "metadata": {},
   "outputs": [
    {
     "data": {
      "text/plain": [
       "Prediction(\n",
       "    rationale='understand the payout structure of this bond.',\n",
       "    document_summary='This is a supplemental agreement for a modification of an existing contract between the United States government and a private company. The document outlines the changes being made to the original contract, including administrative provisions, technical provisions, and pricing information. It also includes details about the due date for the solicitation and the signatures of authorized individuals from both parties.'\n",
       ")"
      ]
     },
     "execution_count": 45,
     "metadata": {},
     "output_type": "execute_result"
    }
   ],
   "source": [
    "class SummarizeDocument(dspy.Signature):\n",
    "    \"\"\"Summarize the document for a potential contractor.\"\"\"\n",
    "\n",
    "    context = dspy.InputField(desc=\"requested information for summary\")\n",
    "    text = dspy.InputField()\n",
    "    document_summary = dspy.OutputField(desc=\"Summary of the document with important details.\")\n",
    "\n",
    "context = document\n",
    "text = \"What type of payout does this have?\"\n",
    "document_summary = dspy.ChainOfThought(SummarizeDocument)\n",
    "document_summary(context=context, text=text)\n",
    "\n"
   ]
  },
  {
   "cell_type": "code",
   "execution_count": 46,
   "metadata": {},
   "outputs": [
    {
     "name": "stdout",
     "output_type": "stream",
     "text": [
      "\n",
      "\n",
      "\n",
      "\n",
      "Summarize the document for a potential contractor.\n",
      "\n",
      "---\n",
      "\n",
      "Follow the following format.\n",
      "\n",
      "Context: requested information for summary\n",
      "\n",
      "Text: ${text}\n",
      "\n",
      "Reasoning: Let's think step by step in order to ${produce the document_summary}. We ...\n",
      "\n",
      "Document Summary: Summary of the document with important details.\n",
      "\n",
      "---\n",
      "\n",
      "Context:\n",
      "AMENDMENT OF SOLICITATION/MODIFICATION OF CONTRACT\n",
      "2. Amendment/Modification No.\n",
      "\n",
      "3. Effective Date\n",
      "\n",
      "0002\n",
      "\n",
      "4. Requisition/Purchase Req No.\n",
      "\n",
      "2024MAR15\n",
      "\n",
      "6. Issued By\n",
      "\n",
      "Code\n",
      "\n",
      "SPRDL1\n",
      "\n",
      "1. Contract ID Code\n",
      "\n",
      "Page\n",
      "\n",
      "1 Of 2\n",
      "\n",
      "Firm Fixed Price\n",
      "\n",
      "5. Project No. (If applicable)\n",
      "\n",
      "SEE SCHEDULE\n",
      "\n",
      "7. Administered By (If other than Item 6)\n",
      "\n",
      "Code\n",
      "\n",
      "DLA LAND WARREN\n",
      "MARCILLE NORDSTOG\n",
      "WARREN, MI 48397-5000\n",
      "\n",
      "EMAIL: MARCILLE.NORDSTOG@DLA.MIL\n",
      "\n",
      "8. Name And Address Of Contractor (No., Street, City, County, State and Zip Code)\n",
      "\n",
      "X\n",
      "\n",
      "9A. Amendment Of Solicitation No.\n",
      "SPRDL1-24-Q-0018\n",
      "\n",
      "9B. Dated (See Item 11)\n",
      "2024JAN03\n",
      "\n",
      "10A. Modification Of Contract/Order No.\n",
      "\n",
      "10B. Dated (See Item 13)\n",
      "Code\n",
      "\n",
      "Facility Code\n",
      "11. THIS ITEM ONLY APPLIES TO AMENDMENTS OF SOLICITATIONS\n",
      "\n",
      "X The above numbered solicitation is amended as set forth in item 14. The hour and date specified for receipt of Offers\n",
      "X is extended,\n",
      "is not extended. 2024APR02\n",
      "Offers must acknowledge receipt of this amendment prior to the hour and date specified in the solicitation or as amended by one of the following methods:\n",
      "(a) By completing items 8 and 15, and returning ____________\n",
      "2 signed copies of the amendments: (b) By acknowledging receipt of this amendment on each copy of the\n",
      "offer submitted; or (c) By separate letter or telegram which includes a reference to the solicitation and amendment numbers. FAILURE OF YOUR\n",
      "ACKNOWLEDGMENT TO BE RECEIVED AT THE PLACE DESIGNATED FOR THE RECEIPT OF OFFERS PRIOR TO THE HOUR AND DATE\n",
      "SPECIFIED MAY RESULT IN REJECTION OF YOUR OFFER. If by virtue of this amendment you desire to change an offer already submitted, such change\n",
      "may be made by telegram or letter, provided each telegram or letter makes reference to the solicitation and this amendment, and is received prior to the opening\n",
      "hour and date specified.\n",
      "12. Accounting And Appropriation Data (If required)\n",
      "\n",
      "13. THIS ITEM ONLY APPLIES TO MODIFICATIONS OF CONTRACTS/ORDERS\n",
      "It Modifies The Contract/Order No. As Described In Item 14.\n",
      "A. This Change Order is Issued Pursuant To:\n",
      "The Changes Set Forth In Item 14 Are Made In\n",
      "The Contract/Order No. In Item 10A.\n",
      "B. The Above Numbered Contract/Order Is Modified To Reflect The Administrative Changes (such as changes in paying office, appropriation data, etc.) Set\n",
      "Forth In Item 14, Pursuant To The Authority of FAR 43.103(b).\n",
      "C. This Supplemental Agreement Is Entered Into Pursuant To Authority Of:\n",
      "D. Other (Specify type of modification and authority)\n",
      "E. IMPORTANT: Contractor\n",
      "is not,\n",
      "is required to sign this document and return _______________ copies to the Issuing Office.\n",
      "14. Description Of Amendment/Modification (Organized by UCF section headings, including solicitation/contract subject matter where feasible.)\n",
      "SEE SECOND PAGE FOR DESCRIPTION\n",
      "\n",
      "Except as provided herein, all terms and conditions of the document referenced in item 9A or 10A, as heretofore changed, remains unchanged and in full force and\n",
      "effect.\n",
      "15A. Name And Title Of Signer (Type or print)\n",
      "16A. Name And Title Of Contracting Officer (Type or print)\n",
      "\n",
      "15B. Contractor/Offeror\n",
      "\n",
      "15C. Date Signed\n",
      "\n",
      "16B. United States Of America\n",
      "By\n",
      "\n",
      "(Signature of person authorized to sign)\n",
      "NSN 7540-01-152-8070\n",
      "PREVIOUS EDITIONS UNUSABLE\n",
      "\n",
      "30-105-02\n",
      "\n",
      "16C. Date Signed\n",
      "\n",
      "/SIGNED/\n",
      "\n",
      "(Signature of Contracting Officer)\n",
      "STANDARD FORM 30 (REV. 10-83)\n",
      "Prescribed by GSA FAR (48 CFR) 53.243\n",
      "\n",
      "\fCONTINUATION SHEET\n",
      "\n",
      "Reference No. of Document Being Continued\n",
      "\n",
      "Page\n",
      "\n",
      "SPRDL1-24-Q-0018\n",
      "\n",
      "PIIN/SIIN\n",
      "\n",
      "MOD/AMD 0002\n",
      "\n",
      "Name of Offeror or Contractor:\n",
      "SUPPLEMENTAL INFORMATION\n",
      "\n",
      "Buyer Name: MARCILLE NORDSTOG\n",
      "Buyer Office Symbol/Telephone Number: ZGAC/(586)467-1219\n",
      "Type of Contract 1: Firm Fixed Price\n",
      "Kind of Contract: Other\n",
      "\n",
      "*** End of Narrative A0000 ***\n",
      "Amendment 0002 to solicitation SPRDL1-24-R-0018 is to extend the solicitation due date from 14MAR2024 to 02APR2024.\n",
      "All other terms and conditions of the basic contract remain unchanged and in full force and effect.\n",
      "\n",
      "*** END OF NARRATIVE A0003 ***\n",
      "\n",
      "2\n",
      "\n",
      "of 2\n",
      "\n",
      "Text: What type of payout does this have?\n",
      "\n",
      "Reasoning: Let's think step by step in order to understand the payout structure of this bond.\n",
      "\n",
      "Document Summary:\u001b[32m This is a supplemental agreement for a modification of an existing contract between the United States government and a private company. The document outlines the changes being made to the original contract, including administrative provisions, technical provisions, and pricing information. It also includes details about the due date for the solicitation and the signatures of authorized individuals from both parties.\u001b[0m\n",
      "\n",
      "\n",
      "\n"
     ]
    }
   ],
   "source": [
    "llm.inspect_history(n=1)"
   ]
  },
  {
   "cell_type": "markdown",
   "metadata": {},
   "source": [
    "### Minimal Working Example"
   ]
  },
  {
   "cell_type": "code",
   "execution_count": 52,
   "metadata": {},
   "outputs": [
    {
     "name": "stderr",
     "output_type": "stream",
     "text": [
      "100%|██████████| 7473/7473 [00:00<00:00, 56802.84it/s]\n",
      "100%|██████████| 1319/1319 [00:00<00:00, 46047.90it/s]\n"
     ]
    }
   ],
   "source": [
    "import dspy\n",
    "from dspy.datasets.gsm8k import GSM8K, gsm8k_metric\n",
    "\n",
    "# Load math questions from the GSM8K dataset\n",
    "gsm8k = GSM8K()\n",
    "gsm8k_trainset, gsm8k_devset = gsm8k.train[:10], gsm8k.dev[:10]"
   ]
  },
  {
   "cell_type": "markdown",
   "metadata": {},
   "source": [
    "#### Define Module\n"
   ]
  },
  {
   "cell_type": "code",
   "execution_count": 53,
   "metadata": {},
   "outputs": [],
   "source": [
    "class CoT(dspy.Module):\n",
    "    def __init__(self):\n",
    "        super().__init__()\n",
    "        self.prog = dspy.ChainOfThought(\"question -> answer\")\n",
    "\n",
    "    def forward(self, question):\n",
    "        return self.prog(question=question)"
   ]
  },
  {
   "cell_type": "code",
   "execution_count": 54,
   "metadata": {},
   "outputs": [
    {
     "name": "stderr",
     "output_type": "stream",
     "text": [
      " 90%|█████████ | 9/10 [00:42<00:04,  4.70s/it]"
     ]
    },
    {
     "name": "stdout",
     "output_type": "stream",
     "text": [
      "Bootstrapped 4 full traces after 10 examples in round 0.\n"
     ]
    },
    {
     "name": "stderr",
     "output_type": "stream",
     "text": [
      "\n"
     ]
    }
   ],
   "source": [
    "from dspy.teleprompt import BootstrapFewShot\n",
    "\n",
    "# Set up the optimizer: we want to \"bootstrap\" (i.e., self-generate) 4-shot examples of our CoT program.\n",
    "config = dict(max_bootstrapped_demos=4, max_labeled_demos=4)\n",
    "\n",
    "# Optimize! Use the `gsm8k_metric` here. In general, the metric is going to tell the optimizer how well it's doing.\n",
    "teleprompter = BootstrapFewShot(metric=gsm8k_metric, **config)\n",
    "optimized_cot = teleprompter.compile(CoT(), trainset=gsm8k_trainset, valset=gsm8k_devset)"
   ]
  },
  {
   "cell_type": "code",
   "execution_count": 55,
   "metadata": {},
   "outputs": [
    {
     "name": "stderr",
     "output_type": "stream",
     "text": [
      "Average Metric: 2 / 10  (20.0): 100%|██████████| 10/10 [00:34<00:00,  3.44s/it]"
     ]
    },
    {
     "name": "stdout",
     "output_type": "stream",
     "text": [
      "Average Metric: 2 / 10  (20.0%)\n"
     ]
    },
    {
     "name": "stderr",
     "output_type": "stream",
     "text": [
      "\n",
      "/home/peter-legion-wsl2/peter-projects/daybreak-ml-docs/.venv/lib/python3.10/site-packages/dspy/evaluate/evaluate.py:187: FutureWarning: DataFrame.applymap has been deprecated. Use DataFrame.map instead.\n",
      "  df = df.applymap(truncate_cell)\n"
     ]
    },
    {
     "data": {
      "text/plain": [
       "20.0"
      ]
     },
     "execution_count": 55,
     "metadata": {},
     "output_type": "execute_result"
    }
   ],
   "source": [
    "from dspy.evaluate import Evaluate\n",
    "\n",
    "# Set up the evaluator, which can be used multiple times.\n",
    "evaluate = Evaluate(devset=gsm8k_devset, metric=gsm8k_metric, num_threads=4, display_progress=True, display_table=0)\n",
    "\n",
    "# Evaluate our `optimized_cot` program.\n",
    "evaluate(optimized_cot)"
   ]
  },
  {
   "cell_type": "code",
   "execution_count": 57,
   "metadata": {},
   "outputs": [
    {
     "name": "stdout",
     "output_type": "stream",
     "text": [
      "\n",
      "\n",
      "\n",
      "\n",
      "Given the fields `question`, produce the fields `answer`.\n",
      "\n",
      "---\n",
      "\n",
      "Follow the following format.\n",
      "\n",
      "Question: ${question}\n",
      "Reasoning: Let's think step by step in order to ${produce the answer}. We ...\n",
      "Answer: ${answer}\n",
      "\n",
      "---\n",
      "\n",
      "Question: The average score on last week's Spanish test was 90. Marco scored 10% less than the average test score and Margaret received 5 more points than Marco. What score did Margaret receive on her test?\n",
      "Reasoning: Let's think step by step in order to find out how many points Margaret got. First, we know that the average score was 90. Secondly, we know that Marco scored 10% less than this average. So, let's calculate how many points less he scored. If the average is 90, then Marco's score would be 90 minus 10%, which is 81. Thirdly, we know that Margaret received 5 more points than Marco. Let's find out how many points she got by adding 5 to Marco's score of 81.\n",
      "Answer: 86\n",
      "\n",
      "---\n",
      "\n",
      "Question: A third of the contestants at a singing competition are female, and the rest are male. If there are 18 contestants in total, how many of them are male?\n",
      "Reasoning: Let's think step by step in order to find out how many males are there. We know that a third of the contestants are females, so we can calculate the number of females. Then, we subtract the number of females from the total number of contestants to get the number of males.\n",
      "Answer: 12\n",
      "\n",
      "---\n",
      "\n",
      "Question: Nancy bought a pie sliced it into 8 pieces. She gave 1/2 to Joe and Darcy, and she gave 1/4 to Carl. How many slices were left?\n",
      "Reasoning: Let's think step by step in order to find out how many slices were left. Firstly, we know that Nancy bought a pie and sliced it into 8 pieces. She gave Joe and Darcy half of the remaining slices, which is equivalent to 1/2 of the total number of slices. After giving Joe and Darcy their share, she had 3/4 of the original number of slices left. Then, Nancy gave Carl a quarter of the remaining slices. We can find out how many slices were left by finding out how many slices Carl got and then subtracting that from the total number of slices Nancy had after giving Joe and Darcy their share.\n",
      "Answer: 2\n",
      "\n",
      "---\n",
      "\n",
      "Question: Megan pays $16 for a shirt that costs $22 before sales. What is the amount of the discount?\n",
      "Reasoning: Let's think step by step in order to find the discount. We know that the original price of the shirt is $22, and Megan paid $16 for it. The difference between these two prices is the discount. So, we can calculate the discount as follows: Discount = Original Price - Paid Price\n",
      "Answer: $6\n",
      "\n",
      "---\n",
      "\n",
      "Question: Karen is packing her backpack for a long-distance hike. She packs 20 pounds of water, 10 pounds of food, and 20 pounds of gear. During her hike, she drinks 2 pounds of water per hour and eats 1/3rd the weight of food per hour as water per hour. How much weight is she carrying after six hours?\n",
      "Reasoning: Let's think step by step in order to\u001b[32m find out how much weight Karen is carrying after six hours. Firstly, we know that Karen packed 20 pounds of water and 10 pounds of food. We also know that she drinks 2 pounds of water per hour and eats 1/3rd the weight of food per hour as water per hour. So, let's calculate how much water and food she consumed during her hike. After six hours, Karen would have consumed 12 pounds of water (6 hours * 2 pounds) and 4 pounds of food (6 hours * 2/3 pound). Then, we subtract the weight of the consumed water and food from the total weight of water and food that she packed to find out how much weight is left.\n",
      "Answer: 18 pounds\u001b[0m\n",
      "\n",
      "\n",
      "\n",
      "\n",
      "\n",
      "\n",
      "\n",
      "Given the fields `question`, produce the fields `answer`.\n",
      "\n",
      "---\n",
      "\n",
      "Follow the following format.\n",
      "\n",
      "Question: ${question}\n",
      "Reasoning: Let's think step by step in order to ${produce the answer}. We ...\n",
      "Answer: ${answer}\n",
      "\n",
      "---\n",
      "\n",
      "Question: The average score on last week's Spanish test was 90. Marco scored 10% less than the average test score and Margaret received 5 more points than Marco. What score did Margaret receive on her test?\n",
      "Reasoning: Let's think step by step in order to find out how many points Margaret got. First, we know that the average score was 90. Secondly, we know that Marco scored 10% less than this average. So, let's calculate how many points less he scored. If the average is 90, then Marco's score would be 90 minus 10%, which is 81. Thirdly, we know that Margaret received 5 more points than Marco. Let's find out how many points she got by adding 5 to Marco's score of 81.\n",
      "Answer: 86\n",
      "\n",
      "---\n",
      "\n",
      "Question: A third of the contestants at a singing competition are female, and the rest are male. If there are 18 contestants in total, how many of them are male?\n",
      "Reasoning: Let's think step by step in order to find out how many males are there. We know that a third of the contestants are females, so we can calculate the number of females. Then, we subtract the number of females from the total number of contestants to get the number of males.\n",
      "Answer: 12\n",
      "\n",
      "---\n",
      "\n",
      "Question: Nancy bought a pie sliced it into 8 pieces. She gave 1/2 to Joe and Darcy, and she gave 1/4 to Carl. How many slices were left?\n",
      "Reasoning: Let's think step by step in order to find out how many slices were left. Firstly, we know that Nancy bought a pie and sliced it into 8 pieces. She gave Joe and Darcy half of the remaining slices, which is equivalent to 1/2 of the total number of slices. After giving Joe and Darcy their share, she had 3/4 of the original number of slices left. Then, Nancy gave Carl a quarter of the remaining slices. We can find out how many slices were left by finding out how many slices Carl got and then subtracting that from the total number of slices Nancy had after giving Joe and Darcy their share.\n",
      "Answer: 2\n",
      "\n",
      "---\n",
      "\n",
      "Question: Megan pays $16 for a shirt that costs $22 before sales. What is the amount of the discount?\n",
      "Reasoning: Let's think step by step in order to find the discount. We know that the original price of the shirt is $22, and Megan paid $16 for it. The difference between these two prices is the discount. So, we can calculate the discount as follows: Discount = Original Price - Paid Price\n",
      "Answer: $6\n",
      "\n",
      "---\n",
      "\n",
      "Question: 20 birds migrate on a seasonal basis from one lake to another, searching for food. If they fly from lake Jim to lake Disney in one season, which is 50 miles apart, then the next season they fly from lake Disney to lake London, 60 miles apart, calculate the combined distance all of the birds have traveled in the two seasons.\n",
      "Reasoning: Let's think step by step in order to\u001b[32m find out how many miles the birds have traveled in total. We know that the birds migrate twice a year, and each time they fly from one lake to another. The first season, they flew 50 miles from lake Jim to lake Disney. In the second season, they flew 60 miles from lake Disney to lake London. So, we can calculate the total distance traveled by adding the distances of both seasons.\n",
      "Answer: 110 miles\u001b[0m\n",
      "\n",
      "\n",
      "\n",
      "\n",
      "\n",
      "\n",
      "\n",
      "Given the fields `question`, produce the fields `answer`.\n",
      "\n",
      "---\n",
      "\n",
      "Follow the following format.\n",
      "\n",
      "Question: ${question}\n",
      "Reasoning: Let's think step by step in order to ${produce the answer}. We ...\n",
      "Answer: ${answer}\n",
      "\n",
      "---\n",
      "\n",
      "Question: The average score on last week's Spanish test was 90. Marco scored 10% less than the average test score and Margaret received 5 more points than Marco. What score did Margaret receive on her test?\n",
      "Reasoning: Let's think step by step in order to find out how many points Margaret got. First, we know that the average score was 90. Secondly, we know that Marco scored 10% less than this average. So, let's calculate how many points less he scored. If the average is 90, then Marco's score would be 90 minus 10%, which is 81. Thirdly, we know that Margaret received 5 more points than Marco. Let's find out how many points she got by adding 5 to Marco's score of 81.\n",
      "Answer: 86\n",
      "\n",
      "---\n",
      "\n",
      "Question: A third of the contestants at a singing competition are female, and the rest are male. If there are 18 contestants in total, how many of them are male?\n",
      "Reasoning: Let's think step by step in order to find out how many males are there. We know that a third of the contestants are females, so we can calculate the number of females. Then, we subtract the number of females from the total number of contestants to get the number of males.\n",
      "Answer: 12\n",
      "\n",
      "---\n",
      "\n",
      "Question: Nancy bought a pie sliced it into 8 pieces. She gave 1/2 to Joe and Darcy, and she gave 1/4 to Carl. How many slices were left?\n",
      "Reasoning: Let's think step by step in order to find out how many slices were left. Firstly, we know that Nancy bought a pie and sliced it into 8 pieces. She gave Joe and Darcy half of the remaining slices, which is equivalent to 1/2 of the total number of slices. After giving Joe and Darcy their share, she had 3/4 of the original number of slices left. Then, Nancy gave Carl a quarter of the remaining slices. We can find out how many slices were left by finding out how many slices Carl got and then subtracting that from the total number of slices Nancy had after giving Joe and Darcy their share.\n",
      "Answer: 2\n",
      "\n",
      "---\n",
      "\n",
      "Question: Megan pays $16 for a shirt that costs $22 before sales. What is the amount of the discount?\n",
      "Reasoning: Let's think step by step in order to find the discount. We know that the original price of the shirt is $22, and Megan paid $16 for it. The difference between these two prices is the discount. So, we can calculate the discount as follows: Discount = Original Price - Paid Price\n",
      "Answer: $6\n",
      "\n",
      "---\n",
      "\n",
      "Question: Rita is reading a five-chapter book with 95 pages. Each chapter has three pages more than the previous one. How many pages does the first chapter have?\n",
      "Reasoning: Let's think step by step in order to\u001b[32m find out how many pages the first chapter has. We know that there are five chapters, and each chapter has three pages more than the previous one. So, we can calculate the number of pages for each chapter using this formula: Number of Pages = Previous Chapter's Number of Pages + 3\n",
      "Answer: 15\u001b[0m\n",
      "\n",
      "\n",
      "\n",
      "\n",
      "\n",
      "\n",
      "\n",
      "Given the fields `question`, produce the fields `answer`.\n",
      "\n",
      "---\n",
      "\n",
      "Follow the following format.\n",
      "\n",
      "Question: ${question}\n",
      "Reasoning: Let's think step by step in order to ${produce the answer}. We ...\n",
      "Answer: ${answer}\n",
      "\n",
      "---\n",
      "\n",
      "Question: The average score on last week's Spanish test was 90. Marco scored 10% less than the average test score and Margaret received 5 more points than Marco. What score did Margaret receive on her test?\n",
      "Reasoning: Let's think step by step in order to find out how many points Margaret got. First, we know that the average score was 90. Secondly, we know that Marco scored 10% less than this average. So, let's calculate how many points less he scored. If the average is 90, then Marco's score would be 90 minus 10%, which is 81. Thirdly, we know that Margaret received 5 more points than Marco. Let's find out how many points she got by adding 5 to Marco's score of 81.\n",
      "Answer: 86\n",
      "\n",
      "---\n",
      "\n",
      "Question: A third of the contestants at a singing competition are female, and the rest are male. If there are 18 contestants in total, how many of them are male?\n",
      "Reasoning: Let's think step by step in order to find out how many males are there. We know that a third of the contestants are females, so we can calculate the number of females. Then, we subtract the number of females from the total number of contestants to get the number of males.\n",
      "Answer: 12\n",
      "\n",
      "---\n",
      "\n",
      "Question: Nancy bought a pie sliced it into 8 pieces. She gave 1/2 to Joe and Darcy, and she gave 1/4 to Carl. How many slices were left?\n",
      "Reasoning: Let's think step by step in order to find out how many slices were left. Firstly, we know that Nancy bought a pie and sliced it into 8 pieces. She gave Joe and Darcy half of the remaining slices, which is equivalent to 1/2 of the total number of slices. After giving Joe and Darcy their share, she had 3/4 of the original number of slices left. Then, Nancy gave Carl a quarter of the remaining slices. We can find out how many slices were left by finding out how many slices Carl got and then subtracting that from the total number of slices Nancy had after giving Joe and Darcy their share.\n",
      "Answer: 2\n",
      "\n",
      "---\n",
      "\n",
      "Question: Megan pays $16 for a shirt that costs $22 before sales. What is the amount of the discount?\n",
      "Reasoning: Let's think step by step in order to find the discount. We know that the original price of the shirt is $22, and Megan paid $16 for it. The difference between these two prices is the discount. So, we can calculate the discount as follows: Discount = Original Price - Paid Price\n",
      "Answer: $6\n",
      "\n",
      "---\n",
      "\n",
      "Question: Wendy went to the dentist for a cleaning, two fillings, and a tooth extraction. The dentist charges $70 for a cleaning and $120 for a filling. Wendy’s dentist bill was five times the cost of a filling. What did Wendy pay for the tooth extraction?\n",
      "Reasoning: Let's think step by step in order to\u001b[32m find out how much Wendy paid for the tooth extraction. We know that Wendy went to the dentist and had three procedures done. The first procedure was a cleaning, which costs $70. The second and third procedures were fillings, each costing $120. Since Wendy's total bill was five times the cost of a filling, we can calculate how much she paid for the fillings and then subtract that from her total bill to find out how much she paid for the tooth extraction.\n",
      "Answer: $240\u001b[0m\n",
      "\n",
      "\n",
      "\n",
      "\n",
      "\n",
      "\n",
      "\n",
      "Given the fields `question`, produce the fields `answer`.\n",
      "\n",
      "---\n",
      "\n",
      "Follow the following format.\n",
      "\n",
      "Question: ${question}\n",
      "Reasoning: Let's think step by step in order to ${produce the answer}. We ...\n",
      "Answer: ${answer}\n",
      "\n",
      "---\n",
      "\n",
      "Question: The average score on last week's Spanish test was 90. Marco scored 10% less than the average test score and Margaret received 5 more points than Marco. What score did Margaret receive on her test?\n",
      "Reasoning: Let's think step by step in order to find out how many points Margaret got. First, we know that the average score was 90. Secondly, we know that Marco scored 10% less than this average. So, let's calculate how many points less he scored. If the average is 90, then Marco's score would be 90 minus 10%, which is 81. Thirdly, we know that Margaret received 5 more points than Marco. Let's find out how many points she got by adding 5 to Marco's score of 81.\n",
      "Answer: 86\n",
      "\n",
      "---\n",
      "\n",
      "Question: A third of the contestants at a singing competition are female, and the rest are male. If there are 18 contestants in total, how many of them are male?\n",
      "Reasoning: Let's think step by step in order to find out how many males are there. We know that a third of the contestants are females, so we can calculate the number of females. Then, we subtract the number of females from the total number of contestants to get the number of males.\n",
      "Answer: 12\n",
      "\n",
      "---\n",
      "\n",
      "Question: Nancy bought a pie sliced it into 8 pieces. She gave 1/2 to Joe and Darcy, and she gave 1/4 to Carl. How many slices were left?\n",
      "Reasoning: Let's think step by step in order to find out how many slices were left. Firstly, we know that Nancy bought a pie and sliced it into 8 pieces. She gave Joe and Darcy half of the remaining slices, which is equivalent to 1/2 of the total number of slices. After giving Joe and Darcy their share, she had 3/4 of the original number of slices left. Then, Nancy gave Carl a quarter of the remaining slices. We can find out how many slices were left by finding out how many slices Carl got and then subtracting that from the total number of slices Nancy had after giving Joe and Darcy their share.\n",
      "Answer: 2\n",
      "\n",
      "---\n",
      "\n",
      "Question: Megan pays $16 for a shirt that costs $22 before sales. What is the amount of the discount?\n",
      "Reasoning: Let's think step by step in order to find the discount. We know that the original price of the shirt is $22, and Megan paid $16 for it. The difference between these two prices is the discount. So, we can calculate the discount as follows: Discount = Original Price - Paid Price\n",
      "Answer: $6\n",
      "\n",
      "---\n",
      "\n",
      "Question: Benjamin collects 6 dozen eggs a day. Carla collects 3 times the number of eggs that Benjamin collects. Trisha collects 4 dozen less than Benjamin. How many dozen eggs do the three collect total?\n",
      "Reasoning: Let's think step by step in order to\u001b[32m find out how many dozen eggs they collected together. Firstly, we know that Benjamin collects 6 dozen eggs a day. Secondly, we know that Carla collects 3 times as many eggs as Benjamin does. So, let's calculate how many eggs Carla gets. Thirdly, we know that Trisha collects 4 dozen less than Benjamin. Let's find out how many eggs she gets by subtracting 4 dozen from the number of eggs Benjamin gets.\n",
      "Answer: 108\u001b[0m\n",
      "\n",
      "\n",
      "\n",
      "\n",
      "\n",
      "\n",
      "\n",
      "Given the fields `question`, produce the fields `answer`.\n",
      "\n",
      "---\n",
      "\n",
      "Follow the following format.\n",
      "\n",
      "Question: ${question}\n",
      "Reasoning: Let's think step by step in order to ${produce the answer}. We ...\n",
      "Answer: ${answer}\n",
      "\n",
      "---\n",
      "\n",
      "Question: The average score on last week's Spanish test was 90. Marco scored 10% less than the average test score and Margaret received 5 more points than Marco. What score did Margaret receive on her test?\n",
      "Reasoning: Let's think step by step in order to find out how many points Margaret got. First, we know that the average score was 90. Secondly, we know that Marco scored 10% less than this average. So, let's calculate how many points less he scored. If the average is 90, then Marco's score would be 90 minus 10%, which is 81. Thirdly, we know that Margaret received 5 more points than Marco. Let's find out how many points she got by adding 5 to Marco's score of 81.\n",
      "Answer: 86\n",
      "\n",
      "---\n",
      "\n",
      "Question: A third of the contestants at a singing competition are female, and the rest are male. If there are 18 contestants in total, how many of them are male?\n",
      "Reasoning: Let's think step by step in order to find out how many males are there. We know that a third of the contestants are females, so we can calculate the number of females. Then, we subtract the number of females from the total number of contestants to get the number of males.\n",
      "Answer: 12\n",
      "\n",
      "---\n",
      "\n",
      "Question: Nancy bought a pie sliced it into 8 pieces. She gave 1/2 to Joe and Darcy, and she gave 1/4 to Carl. How many slices were left?\n",
      "Reasoning: Let's think step by step in order to find out how many slices were left. Firstly, we know that Nancy bought a pie and sliced it into 8 pieces. She gave Joe and Darcy half of the remaining slices, which is equivalent to 1/2 of the total number of slices. After giving Joe and Darcy their share, she had 3/4 of the original number of slices left. Then, Nancy gave Carl a quarter of the remaining slices. We can find out how many slices were left by finding out how many slices Carl got and then subtracting that from the total number of slices Nancy had after giving Joe and Darcy their share.\n",
      "Answer: 2\n",
      "\n",
      "---\n",
      "\n",
      "Question: Megan pays $16 for a shirt that costs $22 before sales. What is the amount of the discount?\n",
      "Reasoning: Let's think step by step in order to find the discount. We know that the original price of the shirt is $22, and Megan paid $16 for it. The difference between these two prices is the discount. So, we can calculate the discount as follows: Discount = Original Price - Paid Price\n",
      "Answer: $6\n",
      "\n",
      "---\n",
      "\n",
      "Question: Roy spends 2 hours on sports activities in school every day. He goes to school 5 days a week. If he missed 2 days within a week, how many hours did he spend on sports in school that week?\n",
      "Reasoning: Let's think step by step in order to\u001b[32m find out how many hours Roy spent on sports during the week. We know that Roy spends 2 hours on sports activities every day and goes to school for 5 days a week. So, we can calculate the total number of hours he spends on sports during the week as follows: Total Hours = Number Of Days * Number Of Hours Per Day\n",
      "Now, let's find out how many days Roy went to school that week. We know that he missed 2 days, so there are 5 - 2 = 3 remaining days. So, we can calculate the total number of hours Roy spent on sports during the week as follows: Total Hours = 3 * 2 = 6\n",
      "Answer: 6\u001b[0m\n",
      "\n",
      "\n",
      "\n",
      "\n",
      "\n",
      "\n",
      "\n",
      "Given the fields `question`, produce the fields `answer`.\n",
      "\n",
      "---\n",
      "\n",
      "Follow the following format.\n",
      "\n",
      "Question: ${question}\n",
      "Reasoning: Let's think step by step in order to ${produce the answer}. We ...\n",
      "Answer: ${answer}\n",
      "\n",
      "---\n",
      "\n",
      "Question: The average score on last week's Spanish test was 90. Marco scored 10% less than the average test score and Margaret received 5 more points than Marco. What score did Margaret receive on her test?\n",
      "Reasoning: Let's think step by step in order to find out how many points Margaret got. First, we know that the average score was 90. Secondly, we know that Marco scored 10% less than this average. So, let's calculate how many points less he scored. If the average is 90, then Marco's score would be 90 minus 10%, which is 81. Thirdly, we know that Margaret received 5 more points than Marco. Let's find out how many points she got by adding 5 to Marco's score of 81.\n",
      "Answer: 86\n",
      "\n",
      "---\n",
      "\n",
      "Question: A third of the contestants at a singing competition are female, and the rest are male. If there are 18 contestants in total, how many of them are male?\n",
      "Reasoning: Let's think step by step in order to find out how many males are there. We know that a third of the contestants are females, so we can calculate the number of females. Then, we subtract the number of females from the total number of contestants to get the number of males.\n",
      "Answer: 12\n",
      "\n",
      "---\n",
      "\n",
      "Question: Nancy bought a pie sliced it into 8 pieces. She gave 1/2 to Joe and Darcy, and she gave 1/4 to Carl. How many slices were left?\n",
      "Reasoning: Let's think step by step in order to find out how many slices were left. Firstly, we know that Nancy bought a pie and sliced it into 8 pieces. She gave Joe and Darcy half of the remaining slices, which is equivalent to 1/2 of the total number of slices. After giving Joe and Darcy their share, she had 3/4 of the original number of slices left. Then, Nancy gave Carl a quarter of the remaining slices. We can find out how many slices were left by finding out how many slices Carl got and then subtracting that from the total number of slices Nancy had after giving Joe and Darcy their share.\n",
      "Answer: 2\n",
      "\n",
      "---\n",
      "\n",
      "Question: Megan pays $16 for a shirt that costs $22 before sales. What is the amount of the discount?\n",
      "Reasoning: Let's think step by step in order to find the discount. We know that the original price of the shirt is $22, and Megan paid $16 for it. The difference between these two prices is the discount. So, we can calculate the discount as follows: Discount = Original Price - Paid Price\n",
      "Answer: $6\n",
      "\n",
      "---\n",
      "\n",
      "Question: Cameron is printing her thesis in the school library and has 400 A4 pieces of paper. If 40% of the papers did not print out up to her desired quality and she separated them as invalid, calculate the total number of valid documents.\n",
      "Reasoning: Let's think step by step in order to\u001b[32m find out how many valid documents Cameron printed. We know that she had 400 pieces of paper and 40% of these papers did not print out up to her desired quality. So, we can calculate the number of invalid papers as follows: Invalid Papers = 40% of 400\n",
      "Then, we find out how many valid documents Cameron printed by subtracting the number of invalid papers from the total number of papers she had.\n",
      "Answer: 240\u001b[0m\n",
      "\n",
      "\n",
      "\n",
      "\n",
      "\n",
      "\n",
      "\n",
      "Given the fields `question`, produce the fields `answer`.\n",
      "\n",
      "---\n",
      "\n",
      "Follow the following format.\n",
      "\n",
      "Question: ${question}\n",
      "Reasoning: Let's think step by step in order to ${produce the answer}. We ...\n",
      "Answer: ${answer}\n",
      "\n",
      "---\n",
      "\n",
      "Question: The average score on last week's Spanish test was 90. Marco scored 10% less than the average test score and Margaret received 5 more points than Marco. What score did Margaret receive on her test?\n",
      "Reasoning: Let's think step by step in order to find out how many points Margaret got. First, we know that the average score was 90. Secondly, we know that Marco scored 10% less than this average. So, let's calculate how many points less he scored. If the average is 90, then Marco's score would be 90 minus 10%, which is 81. Thirdly, we know that Margaret received 5 more points than Marco. Let's find out how many points she got by adding 5 to Marco's score of 81.\n",
      "Answer: 86\n",
      "\n",
      "---\n",
      "\n",
      "Question: A third of the contestants at a singing competition are female, and the rest are male. If there are 18 contestants in total, how many of them are male?\n",
      "Reasoning: Let's think step by step in order to find out how many males are there. We know that a third of the contestants are females, so we can calculate the number of females. Then, we subtract the number of females from the total number of contestants to get the number of males.\n",
      "Answer: 12\n",
      "\n",
      "---\n",
      "\n",
      "Question: Nancy bought a pie sliced it into 8 pieces. She gave 1/2 to Joe and Darcy, and she gave 1/4 to Carl. How many slices were left?\n",
      "Reasoning: Let's think step by step in order to find out how many slices were left. Firstly, we know that Nancy bought a pie and sliced it into 8 pieces. She gave Joe and Darcy half of the remaining slices, which is equivalent to 1/2 of the total number of slices. After giving Joe and Darcy their share, she had 3/4 of the original number of slices left. Then, Nancy gave Carl a quarter of the remaining slices. We can find out how many slices were left by finding out how many slices Carl got and then subtracting that from the total number of slices Nancy had after giving Joe and Darcy their share.\n",
      "Answer: 2\n",
      "\n",
      "---\n",
      "\n",
      "Question: Megan pays $16 for a shirt that costs $22 before sales. What is the amount of the discount?\n",
      "Reasoning: Let's think step by step in order to find the discount. We know that the original price of the shirt is $22, and Megan paid $16 for it. The difference between these two prices is the discount. So, we can calculate the discount as follows: Discount = Original Price - Paid Price\n",
      "Answer: $6\n",
      "\n",
      "---\n",
      "\n",
      "Question: Burt spent $2.00 on a packet of basil seeds and $8.00 on potting soil. The packet of seeds yielded 20 basil plants. He sells each basil plant for $5.00 at the local farmer's market. What is the net profit from his basil plants?\n",
      "Reasoning: Let's think step by step in order to\u001b[32m find out how much profit he made from selling the basil plants. Firstly, we know that Burt spent $2.00 on a packet of seeds and $8.00 on potting soil. Secondly, we know that the packet of seeds yielded 20 basil plants. Thirdly, we know that he sells each basil plant for $5.00 at the local farmer's market. Let's calculate how much money he made from selling all the basil plants. Then, let's subtract the total cost of seeds and potting soil to find out the net profit.\n",
      "Answer: $75\u001b[0m\n",
      "\n",
      "\n",
      "\n",
      "\n",
      "\n",
      "\n",
      "\n",
      "Given the fields `question`, produce the fields `answer`.\n",
      "\n",
      "---\n",
      "\n",
      "Follow the following format.\n",
      "\n",
      "Question: ${question}\n",
      "Reasoning: Let's think step by step in order to ${produce the answer}. We ...\n",
      "Answer: ${answer}\n",
      "\n",
      "---\n",
      "\n",
      "Question: The average score on last week's Spanish test was 90. Marco scored 10% less than the average test score and Margaret received 5 more points than Marco. What score did Margaret receive on her test?\n",
      "Reasoning: Let's think step by step in order to find out how many points Margaret got. First, we know that the average score was 90. Secondly, we know that Marco scored 10% less than this average. So, let's calculate how many points less he scored. If the average is 90, then Marco's score would be 90 minus 10%, which is 81. Thirdly, we know that Margaret received 5 more points than Marco. Let's find out how many points she got by adding 5 to Marco's score of 81.\n",
      "Answer: 86\n",
      "\n",
      "---\n",
      "\n",
      "Question: A third of the contestants at a singing competition are female, and the rest are male. If there are 18 contestants in total, how many of them are male?\n",
      "Reasoning: Let's think step by step in order to find out how many males are there. We know that a third of the contestants are females, so we can calculate the number of females. Then, we subtract the number of females from the total number of contestants to get the number of males.\n",
      "Answer: 12\n",
      "\n",
      "---\n",
      "\n",
      "Question: Nancy bought a pie sliced it into 8 pieces. She gave 1/2 to Joe and Darcy, and she gave 1/4 to Carl. How many slices were left?\n",
      "Reasoning: Let's think step by step in order to find out how many slices were left. Firstly, we know that Nancy bought a pie and sliced it into 8 pieces. She gave Joe and Darcy half of the remaining slices, which is equivalent to 1/2 of the total number of slices. After giving Joe and Darcy their share, she had 3/4 of the original number of slices left. Then, Nancy gave Carl a quarter of the remaining slices. We can find out how many slices were left by finding out how many slices Carl got and then subtracting that from the total number of slices Nancy had after giving Joe and Darcy their share.\n",
      "Answer: 2\n",
      "\n",
      "---\n",
      "\n",
      "Question: Megan pays $16 for a shirt that costs $22 before sales. What is the amount of the discount?\n",
      "Reasoning: Let's think step by step in order to find the discount. We know that the original price of the shirt is $22, and Megan paid $16 for it. The difference between these two prices is the discount. So, we can calculate the discount as follows: Discount = Original Price - Paid Price\n",
      "Answer: $6\n",
      "\n",
      "---\n",
      "\n",
      "Question: Martha's cat catches 3 rats and 7 birds. Cara's cat catches 3 less than five times as many animals as Martha's cat. How many animals does Cara's cat catch?\n",
      "Reasoning: Let's think step by step in order to\u001b[32m find out how many animals Cara's cat caught. Firstly, we know that Martha's cat caught 3 rats and 7 birds. So, the total number of animals Martha's cat caught is 10 (3 rats + 7 birds). Secondly, we know that Cara's cat catches five times as many animals as Martha's cat, but she catches three less than this amount. Let's calculate how many animals Cara's cat would catch if she had the same number of animals as Martha's cat. Then, we subtract 3 from that number to get the actual number of animals Cara's cat caught.\n",
      "Answer: 50 (10 times 5)\u001b[0m\n",
      "\n",
      "\n",
      "\n",
      "\n",
      "\n",
      "\n",
      "\n",
      "Given the fields `question`, produce the fields `answer`.\n",
      "\n",
      "---\n",
      "\n",
      "Follow the following format.\n",
      "\n",
      "Question: ${question}\n",
      "Reasoning: Let's think step by step in order to ${produce the answer}. We ...\n",
      "Answer: ${answer}\n",
      "\n",
      "---\n",
      "\n",
      "Question: The average score on last week's Spanish test was 90. Marco scored 10% less than the average test score and Margaret received 5 more points than Marco. What score did Margaret receive on her test?\n",
      "Reasoning: Let's think step by step in order to find out how many points Margaret got. First, we know that the average score was 90. Secondly, we know that Marco scored 10% less than this average. So, let's calculate how many points less he scored. If the average is 90, then Marco's score would be 90 minus 10%, which is 81. Thirdly, we know that Margaret received 5 more points than Marco. Let's find out how many points she got by adding 5 to Marco's score of 81.\n",
      "Answer: 86\n",
      "\n",
      "---\n",
      "\n",
      "Question: A third of the contestants at a singing competition are female, and the rest are male. If there are 18 contestants in total, how many of them are male?\n",
      "Reasoning: Let's think step by step in order to find out how many males are there. We know that a third of the contestants are females, so we can calculate the number of females. Then, we subtract the number of females from the total number of contestants to get the number of males.\n",
      "Answer: 12\n",
      "\n",
      "---\n",
      "\n",
      "Question: Nancy bought a pie sliced it into 8 pieces. She gave 1/2 to Joe and Darcy, and she gave 1/4 to Carl. How many slices were left?\n",
      "Reasoning: Let's think step by step in order to find out how many slices were left. Firstly, we know that Nancy bought a pie and sliced it into 8 pieces. She gave Joe and Darcy half of the remaining slices, which is equivalent to 1/2 of the total number of slices. After giving Joe and Darcy their share, she had 3/4 of the original number of slices left. Then, Nancy gave Carl a quarter of the remaining slices. We can find out how many slices were left by finding out how many slices Carl got and then subtracting that from the total number of slices Nancy had after giving Joe and Darcy their share.\n",
      "Answer: 2\n",
      "\n",
      "---\n",
      "\n",
      "Question: Megan pays $16 for a shirt that costs $22 before sales. What is the amount of the discount?\n",
      "Reasoning: Let's think step by step in order to find the discount. We know that the original price of the shirt is $22, and Megan paid $16 for it. The difference between these two prices is the discount. So, we can calculate the discount as follows: Discount = Original Price - Paid Price\n",
      "Answer: $6\n",
      "\n",
      "---\n",
      "\n",
      "Question: Trey is raising money for a new bike that costs $112. He plans to spend the next two weeks selling bracelets for $1 each. On average, how many bracelets does he need to sell each day?\n",
      "Reasoning: Let's think step by step in order to\u001b[32m find out how many bracelets Trey needs to sell each day. We know that Trey is raising money for a new bike that costs $112, and he plans to spend the next two weeks selling bracelets for $1 each. In total, he has 14 days to raise enough money. So, we can calculate how many dollars he needs to raise in total by multiplying the cost of the bike with 112 and then divide it by the number of days he has. Then, we can find out how many bracelets he needs to sell each day by dividing the total amount of money he needs to raise by the price of one bracelet.\n",
      "Answer: 73\u001b[0m\n",
      "\n",
      "\n",
      "\n"
     ]
    }
   ],
   "source": [
    "llm.inspect_history(n=10)"
   ]
  },
  {
   "cell_type": "markdown",
   "metadata": {},
   "source": [
    "***"
   ]
  },
  {
   "cell_type": "code",
   "execution_count": null,
   "metadata": {},
   "outputs": [],
   "source": []
  }
 ],
 "metadata": {
  "kernelspec": {
   "display_name": ".venv",
   "language": "python",
   "name": "python3"
  },
  "language_info": {
   "codemirror_mode": {
    "name": "ipython",
    "version": 3
   },
   "file_extension": ".py",
   "mimetype": "text/x-python",
   "name": "python",
   "nbconvert_exporter": "python",
   "pygments_lexer": "ipython3",
   "version": "3.10.12"
  }
 },
 "nbformat": 4,
 "nbformat_minor": 2
}
