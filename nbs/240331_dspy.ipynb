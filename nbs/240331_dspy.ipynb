{
 "cells": [
  {
   "cell_type": "code",
   "execution_count": 1,
   "metadata": {},
   "outputs": [],
   "source": [
    "import dspy\n",
    "import os\n",
    "from dotenv import load_dotenv"
   ]
  },
  {
   "cell_type": "code",
   "execution_count": 2,
   "metadata": {},
   "outputs": [
    {
     "data": {
      "text/plain": [
       "True"
      ]
     },
     "execution_count": 2,
     "metadata": {},
     "output_type": "execute_result"
    }
   ],
   "source": [
    "load_dotenv()"
   ]
  },
  {
   "cell_type": "code",
   "execution_count": 3,
   "metadata": {},
   "outputs": [],
   "source": [
    "# llm = dspy.OpenAI(model='gpt-3.5-turbo-0125', api_key=OPENAI_API_KEY, max_tokens=300)\n",
    "llm = dspy.OllamaLocal(\"zephyr-7b-beta\", model_type=\"text\", stop=['\\n\\n'], max_tokens=300)\n",
    "dspy.settings.configure(lm=llm, temperature=0.7)"
   ]
  },
  {
   "cell_type": "code",
   "execution_count": 4,
   "metadata": {},
   "outputs": [
    {
     "data": {
      "text/plain": [
       "[\"\\ni'm doing well, thanks for asking. I hope you're doing okay too!\"]"
      ]
     },
     "execution_count": 4,
     "metadata": {},
     "output_type": "execute_result"
    }
   ],
   "source": [
    "llm(\"hi how are you?\")"
   ]
  },
  {
   "cell_type": "markdown",
   "metadata": {},
   "source": [
    "## Signatures"
   ]
  },
  {
   "cell_type": "markdown",
   "metadata": {},
   "source": [
    "#### Sentiment Classification "
   ]
  },
  {
   "cell_type": "code",
   "execution_count": 5,
   "metadata": {},
   "outputs": [
    {
     "data": {
      "text/plain": [
       "'positive'"
      ]
     },
     "execution_count": 5,
     "metadata": {},
     "output_type": "execute_result"
    }
   ],
   "source": [
    "sentence = \"it's a charming and often affecting journey.\"  # example from the SST-2 dataset.\n",
    "\n",
    "classify = dspy.Predict('sentence -> sentiment')\n",
    "classify(sentence=sentence).sentiment"
   ]
  },
  {
   "cell_type": "code",
   "execution_count": 6,
   "metadata": {},
   "outputs": [
    {
     "name": "stdout",
     "output_type": "stream",
     "text": [
      "\n",
      "\n",
      "\n",
      "\n",
      "Given the fields `sentence`, produce the fields `sentiment`.\n",
      "\n",
      "---\n",
      "\n",
      "Follow the following format.\n",
      "\n",
      "Sentence: ${sentence}\n",
      "Sentiment: ${sentiment}\n",
      "\n",
      "---\n",
      "\n",
      "Sentence: it's a charming and often affecting journey.\n",
      "Sentiment:\u001b[32m positive\u001b[0m\n",
      "\n",
      "\n",
      "\n"
     ]
    }
   ],
   "source": [
    "llm.inspect_history(n=1)"
   ]
  },
  {
   "cell_type": "code",
   "execution_count": 7,
   "metadata": {},
   "outputs": [
    {
     "data": {
      "text/plain": [
       "'qxhjgkzl'"
      ]
     },
     "execution_count": 7,
     "metadata": {},
     "output_type": "execute_result"
    }
   ],
   "source": [
    "short_story = dspy.Predict('sentence -> random_characters')\n",
    "short_story(sentence=sentence).random_characters"
   ]
  },
  {
   "cell_type": "markdown",
   "metadata": {},
   "source": [
    "#### Summarization"
   ]
  },
  {
   "cell_type": "code",
   "execution_count": 8,
   "metadata": {},
   "outputs": [
    {
     "name": "stdout",
     "output_type": "stream",
     "text": [
      "The 21-year-old footballer, who played seven times for West Ham United last season and scored against FC Lustrains in a Europa League qualifier, had loan spells at Blackpool and Colchester United during the same campaign. He netted twice for Colchester but they were relegated. The youngster has now signed for a promoted team, but the length of his contract is unknown.\n"
     ]
    }
   ],
   "source": [
    "# Example from the XSum dataset.\n",
    "document = \"\"\"The 21-year-old made seven appearances for the Hammers and netted his only goal for them in a Europa League qualification round match against Andorran side FC Lustrains last season. Lee had two loan spells in League One last term, with Blackpool and then Colchester United. He scored twice for the U's but was unable to save them from relegation. The length of Lee's contract with the promoted Tykes has not been revealed. Find all the latest football transfers on our dedicated page.\"\"\"\n",
    "\n",
    "summarize = dspy.ChainOfThought('document -> summary')\n",
    "response = summarize(document=document)\n",
    "\n",
    "print(response.summary)"
   ]
  },
  {
   "cell_type": "code",
   "execution_count": 9,
   "metadata": {},
   "outputs": [
    {
     "name": "stdout",
     "output_type": "stream",
     "text": [
      "\n",
      "\n",
      "\n",
      "\n",
      "Given the fields `document`, produce the fields `summary`.\n",
      "\n",
      "---\n",
      "\n",
      "Follow the following format.\n",
      "\n",
      "Document: ${document}\n",
      "Reasoning: Let's think step by step in order to ${produce the summary}. We ...\n",
      "Summary: ${summary}\n",
      "\n",
      "---\n",
      "\n",
      "Document: The 21-year-old made seven appearances for the Hammers and netted his only goal for them in a Europa League qualification round match against Andorran side FC Lustrains last season. Lee had two loan spells in League One last term, with Blackpool and then Colchester United. He scored twice for the U's but was unable to save them from relegation. The length of Lee's contract with the promoted Tykes has not been revealed. Find all the latest football transfers on our dedicated page.\n",
      "Reasoning: Let's think step by step in order to\u001b[32m summarize the career of a young football player who recently signed for a promoted team. First, we need to know his age and previous clubs. He played seven times for West Ham United last season and scored one goal against FC Lustrains in a Europa League qualifier. Then, we should mention his loan spells at Blackpool and Colchester United during the same campaign. Lee scored twice for Colchester but they got relegated anyway. Finally, we can reveal that he has joined a promoted team, but we don't have any details about the length of his contract yet. By putting all this information together, we can create a concise summary of his recent career moves.\n",
      "Summary: The 21-year-old footballer, who played seven times for West Ham United last season and scored against FC Lustrains in a Europa League qualifier, had loan spells at Blackpool and Colchester United during the same campaign. He netted twice for Colchester but they were relegated. The youngster has now signed for a promoted team, but the length of his contract is unknown.\u001b[0m\n",
      "\n",
      "\n",
      "\n"
     ]
    }
   ],
   "source": [
    "llm.inspect_history(n=1)"
   ]
  },
  {
   "cell_type": "code",
   "execution_count": 10,
   "metadata": {},
   "outputs": [],
   "source": [
    "data = \"./data/dogs.txt\"\n",
    "with open(data, \"r\") as f:\n",
    "    document = f.read()"
   ]
  },
  {
   "cell_type": "code",
   "execution_count": 11,
   "metadata": {},
   "outputs": [
    {
     "name": "stdout",
     "output_type": "stream",
     "text": [
      "Feline Financial Bank is an exclusive bank for cats founded by Sir Purrington, with cat-friendly architecture, efficient tellers offering savings accounts and investment portfolios, and a high-security vault guarded by feline warriors. It's a symbol of feline independence and sophistication.\n"
     ]
    }
   ],
   "source": [
    "summarize = dspy.ChainOfThought('document -> tldr')\n",
    "response = summarize(document=document)\n",
    "\n",
    "print(response.tldr)"
   ]
  },
  {
   "cell_type": "markdown",
   "metadata": {},
   "source": [
    "#### Classification"
   ]
  },
  {
   "cell_type": "code",
   "execution_count": 12,
   "metadata": {},
   "outputs": [
    {
     "data": {
      "text/plain": [
       "Prediction(\n",
       "    sentiment='Fear'\n",
       ")"
      ]
     },
     "execution_count": 12,
     "metadata": {},
     "output_type": "execute_result"
    }
   ],
   "source": [
    "class Emotion(dspy.Signature):\n",
    "    \"\"\"Classify emotion among sadness, joy, love, anger, fear, surprise.\"\"\"\n",
    "    \n",
    "    sentence = dspy.InputField()\n",
    "    sentiment = dspy.OutputField()\n",
    "\n",
    "sentence = \"i started feeling a little vulnerable when the giant spotlight started blinding me\"  # from dair-ai/emotion\n",
    "\n",
    "classify = dspy.Predict(Emotion)\n",
    "classify(sentence=sentence)"
   ]
  },
  {
   "cell_type": "code",
   "execution_count": 13,
   "metadata": {},
   "outputs": [
    {
     "data": {
      "text/plain": [
       "Prediction(\n",
       "    weather='about to rain'\n",
       ")"
      ]
     },
     "execution_count": 13,
     "metadata": {},
     "output_type": "execute_result"
    }
   ],
   "source": [
    "class Weather(dspy.Signature):\n",
    "    \"\"\"Classify weather as rainy, sunny, or about to rain.\"\"\"\n",
    "\n",
    "    sentence = dspy.InputField()\n",
    "    weather = dspy.OutputField()\n",
    "\n",
    "sentence = \"They both were both very hungry and wanted to be home. Large dark clouds moved towards them from the horizon.\"\n",
    "\n",
    "classify = dspy.Predict(Weather)\n",
    "classify(sentence=sentence)"
   ]
  },
  {
   "cell_type": "markdown",
   "metadata": {},
   "source": [
    "#### A metric that evaluates faithfulness to citations "
   ]
  },
  {
   "cell_type": "code",
   "execution_count": 14,
   "metadata": {},
   "outputs": [
    {
     "data": {
      "text/plain": [
       "Prediction(\n",
       "    rationale='check if text is faithful to context.\\n1) We need to find out how many goals did Lee score for Colchester United.\\n2) According to the context, Lee scored twice for Colchester United.\\n3) So, Lee scored a total of 2 goals for Colchester United.\\n4) The text says that Lee scored 3 goals for Colchester United.\\n5) Therefore, the text is not faithful to the context.',\n",
       "    faithfulness='False'\n",
       ")"
      ]
     },
     "execution_count": 14,
     "metadata": {},
     "output_type": "execute_result"
    }
   ],
   "source": [
    "class CheckCitationFaithfulness(dspy.Signature):\n",
    "    \"\"\"Verify that the text is based on the provided context.\"\"\"\n",
    "\n",
    "    context = dspy.InputField(desc=\"facts here are assumed to be true\")\n",
    "    text = dspy.InputField()\n",
    "    faithfulness = dspy.OutputField(desc=\"True/False indicating if text is faithful to context\")\n",
    "\n",
    "context = \"The 21-year-old made seven appearances for the Hammers and netted his only goal for them in a Europa League qualification round match against Andorran side FC Lustrains last season. Lee had two loan spells in League One last term, with Blackpool and then Colchester United. He scored twice for the U's but was unable to save them from relegation. The length of Lee's contract with the promoted Tykes has not been revealed. Find all the latest football transfers on our dedicated page.\"\n",
    "\n",
    "text = \"Lee scored 3 goals for Colchester United.\"\n",
    "\n",
    "faithfulness = dspy.ChainOfThought(CheckCitationFaithfulness)\n",
    "faithfulness(context=context, text=text)"
   ]
  },
  {
   "cell_type": "code",
   "execution_count": 15,
   "metadata": {},
   "outputs": [],
   "source": [
    "document = \"\"\"AMENDMENT OF SOLICITATION/MODIFICATION OF CONTRACT\n",
    "2. Amendment/Modification No.\n",
    "\n",
    "3. Effective Date\n",
    "\n",
    "0002\n",
    "\n",
    "4. Requisition/Purchase Req No.\n",
    "\n",
    "2024MAR15\n",
    "\n",
    "6. Issued By\n",
    "\n",
    "Code\n",
    "\n",
    "SPRDL1\n",
    "\n",
    "1. Contract ID Code\n",
    "\n",
    "Page\n",
    "\n",
    "1 Of 2\n",
    "\n",
    "Firm Fixed Price\n",
    "\n",
    "5. Project No. (If applicable)\n",
    "\n",
    "SEE SCHEDULE\n",
    "\n",
    "7. Administered By (If other than Item 6)\n",
    "\n",
    "Code\n",
    "\n",
    "DLA LAND WARREN\n",
    "MARCILLE NORDSTOG\n",
    "WARREN, MI 48397-5000\n",
    "\n",
    "EMAIL: MARCILLE.NORDSTOG@DLA.MIL\n",
    "\n",
    "8. Name And Address Of Contractor (No., Street, City, County, State and Zip Code)\n",
    "\n",
    "X\n",
    "\n",
    "9A. Amendment Of Solicitation No.\n",
    "SPRDL1-24-Q-0018\n",
    "\n",
    "9B. Dated (See Item 11)\n",
    "2024JAN03\n",
    "\n",
    "10A. Modification Of Contract/Order No.\n",
    "\n",
    "10B. Dated (See Item 13)\n",
    "Code\n",
    "\n",
    "Facility Code\n",
    "11. THIS ITEM ONLY APPLIES TO AMENDMENTS OF SOLICITATIONS\n",
    "\n",
    "X The above numbered solicitation is amended as set forth in item 14. The hour and date specified for receipt of Offers\n",
    "X is extended,\n",
    "is not extended. 2024APR02\n",
    "Offers must acknowledge receipt of this amendment prior to the hour and date specified in the solicitation or as amended by one of the following methods:\n",
    "(a) By completing items 8 and 15, and returning ____________\n",
    "2 signed copies of the amendments: (b) By acknowledging receipt of this amendment on each copy of the\n",
    "offer submitted; or (c) By separate letter or telegram which includes a reference to the solicitation and amendment numbers. FAILURE OF YOUR\n",
    "ACKNOWLEDGMENT TO BE RECEIVED AT THE PLACE DESIGNATED FOR THE RECEIPT OF OFFERS PRIOR TO THE HOUR AND DATE\n",
    "SPECIFIED MAY RESULT IN REJECTION OF YOUR OFFER. If by virtue of this amendment you desire to change an offer already submitted, such change\n",
    "may be made by telegram or letter, provided each telegram or letter makes reference to the solicitation and this amendment, and is received prior to the opening\n",
    "hour and date specified.\n",
    "12. Accounting And Appropriation Data (If required)\n",
    "\n",
    "13. THIS ITEM ONLY APPLIES TO MODIFICATIONS OF CONTRACTS/ORDERS\n",
    "It Modifies The Contract/Order No. As Described In Item 14.\n",
    "A. This Change Order is Issued Pursuant To:\n",
    "The Changes Set Forth In Item 14 Are Made In\n",
    "The Contract/Order No. In Item 10A.\n",
    "B. The Above Numbered Contract/Order Is Modified To Reflect The Administrative Changes (such as changes in paying office, appropriation data, etc.) Set\n",
    "Forth In Item 14, Pursuant To The Authority of FAR 43.103(b).\n",
    "C. This Supplemental Agreement Is Entered Into Pursuant To Authority Of:\n",
    "D. Other (Specify type of modification and authority)\n",
    "E. IMPORTANT: Contractor\n",
    "is not,\n",
    "is required to sign this document and return _______________ copies to the Issuing Office.\n",
    "14. Description Of Amendment/Modification (Organized by UCF section headings, including solicitation/contract subject matter where feasible.)\n",
    "SEE SECOND PAGE FOR DESCRIPTION\n",
    "\n",
    "Except as provided herein, all terms and conditions of the document referenced in item 9A or 10A, as heretofore changed, remains unchanged and in full force and\n",
    "effect.\n",
    "15A. Name And Title Of Signer (Type or print)\n",
    "16A. Name And Title Of Contracting Officer (Type or print)\n",
    "\n",
    "15B. Contractor/Offeror\n",
    "\n",
    "15C. Date Signed\n",
    "\n",
    "16B. United States Of America\n",
    "By\n",
    "\n",
    "(Signature of person authorized to sign)\n",
    "NSN 7540-01-152-8070\n",
    "PREVIOUS EDITIONS UNUSABLE\n",
    "\n",
    "30-105-02\n",
    "\n",
    "16C. Date Signed\n",
    "\n",
    "/SIGNED/\n",
    "\n",
    "(Signature of Contracting Officer)\n",
    "STANDARD FORM 30 (REV. 10-83)\n",
    "Prescribed by GSA FAR (48 CFR) 53.243\n",
    "\n",
    "\fCONTINUATION SHEET\n",
    "\n",
    "Reference No. of Document Being Continued\n",
    "\n",
    "Page\n",
    "\n",
    "SPRDL1-24-Q-0018\n",
    "\n",
    "PIIN/SIIN\n",
    "\n",
    "MOD/AMD 0002\n",
    "\n",
    "Name of Offeror or Contractor:\n",
    "SUPPLEMENTAL INFORMATION\n",
    "\n",
    "Buyer Name: MARCILLE NORDSTOG\n",
    "Buyer Office Symbol/Telephone Number: ZGAC/(586)467-1219\n",
    "Type of Contract 1: Firm Fixed Price\n",
    "Kind of Contract: Other\n",
    "\n",
    "*** End of Narrative A0000 ***\n",
    "Amendment 0002 to solicitation SPRDL1-24-R-0018 is to extend the solicitation due date from 14MAR2024 to 02APR2024.\n",
    "All other terms and conditions of the basic contract remain unchanged and in full force and effect.\n",
    "\n",
    "*** END OF NARRATIVE A0003 ***\n",
    "\n",
    "2\n",
    "\n",
    "of 2\"\"\""
   ]
  },
  {
   "cell_type": "code",
   "execution_count": 16,
   "metadata": {},
   "outputs": [
    {
     "data": {
      "text/plain": [
       "Prediction(\n",
       "    rationale='understand why this statement is true. First, we need to define what an amendment is. According to the text provided, an amendment is a change or modification made to a contract or solicitation. Second, we need to identify whether this document falls under the category of an amendment. In order to determine that, we need to analyze the content of this document in comparison with what an amendment typically entails.\\nIn this case, the statement \"This is not an amendment\" is true because this document does not contain any changes or modifications made to a contract or solicitation. The reason for that is because this document states that it is not an amendment. Therefore, since this document does not state that it contains any changes or modifications made to a contract or solicitation, then by default, we can conclude that this document falls under the category of something other than an amendment.\\nIn summary, in order for something to be considered as an amendment, it needs to contain some sort of change or modification made to a contract or solicitation. Since this document does not state that it contains any changes or modifications made to a contract or solicitation, then by default, we can conclude that this document falls under the category of something other than an amendment.',\n",
       "    document_class='Contract Amendment'\n",
       ")"
      ]
     },
     "execution_count": 16,
     "metadata": {},
     "output_type": "execute_result"
    }
   ],
   "source": [
    "class CheckDocumentClass(dspy.Signature):\n",
    "    \"\"\"Verify the document is not an amendment to a procurement soliciation.\"\"\"\n",
    "\n",
    "    context = dspy.InputField(desc=\"facts here are assumed to be true\")\n",
    "    text = dspy.InputField()\n",
    "    document_class = dspy.OutputField(desc=\"True/False indicatating if text is faithful to context\")\n",
    "\n",
    "context = document[:4000]\n",
    "\n",
    "text = \"This is not an amendment.\"\n",
    "\n",
    "document_class = dspy.ChainOfThought(CheckDocumentClass)\n",
    "document_class(context=context, text=text)"
   ]
  },
  {
   "cell_type": "markdown",
   "metadata": {},
   "source": [
    "************************"
   ]
  },
  {
   "cell_type": "code",
   "execution_count": 17,
   "metadata": {},
   "outputs": [
    {
     "data": {
      "text/plain": [
       "'AMENDMENT OF SOLICITATION/MODIFICATION OF CONTRACT\\n2. Amendment/Modification No.\\n\\n3. Effective Date\\n\\n0002\\n\\n4. Requisition/Purchase Req No.\\n\\n2024MAR15\\n\\n6. Issued By\\n\\nCode\\n\\nSPRDL1\\n\\n1. Contract ID Code\\n\\nPage\\n\\n1 Of 2\\n\\nFirm Fixed Price\\n\\n5. Project No. (If applicable)\\n\\nSEE SCHEDULE\\n\\n7. Administered By (If other than Item 6)\\n\\nCode\\n\\nDLA LAND WARREN\\nMARCILLE NORDSTOG\\nWARREN, MI 48397-5000\\n\\nEMAIL: MARCILLE.NORDSTOG@DLA.MIL\\n\\n8. Name And Address Of Contractor (No., Street, City, County, State and Zip Code)\\n\\nX\\n\\n9A. Amendment Of Solicitation No.\\nSPRDL1-24-Q-0018\\n\\n9B. Dated (See Item 11)\\n2024JAN03\\n\\n10A. Modification Of Contract/Order No.\\n\\n10B. Dated (See Item 13)\\nCode\\n\\nFacility Code\\n11. THIS ITEM ONLY APPLIES TO AMENDMENTS OF SOLICITATIONS\\n\\nX The above numbered solicitation is amended as set forth in item 14. The hour and date specified for receipt of Offers\\nX is extended,\\nis not extended. 2024APR02\\nOffers must acknowledge receipt of this amendment prior to the hour and date specified in the solicitation or as amended by one of the following methods:\\n(a) By completing items 8 and 15, and returning ____________\\n2 signed copies of the amendments: (b) By acknowledging receipt of this amendment on each copy of the\\noffer submitted; or (c) By separate letter or telegram which includes a reference to the solicitation and amendment numbers. FAILURE OF YOUR\\nACKNOWLEDGMENT TO BE RECEIVED AT THE PLACE DESIGNATED FOR THE RECEIPT OF OFFERS PRIOR TO THE HOUR AND DATE\\nSPECIFIED MAY RESULT IN REJECTION OF YOUR OFFER. If by virtue of this amendment you desire to change an offer already submitted, such change\\nmay be made by telegram or letter, provided each telegram or letter makes reference to the solicitation and this amendment, and is received prior to the opening\\nhour and date specified.\\n12. Accounting And Appropriation Data (If required)\\n\\n13. THIS ITEM ONLY APPLIES TO MODIFICATIONS OF CONTRACTS/ORDERS\\nIt Modifies The Contract/Order No. As Described In Item 14.\\nA. This Change Order is Issued Pursuant To:\\nThe Changes Set Forth In Item 14 Are Made In\\nThe Contract/Order No. In Item 10A.\\nB. The Above Numbered Contract/Order Is Modified To Reflect The Administrative Changes (such as changes in paying office, appropriation data, etc.) Set\\nForth In Item 14, Pursuant To The Authority of FAR 43.103(b).\\nC. This Supplemental Agreement Is Entered Into Pursuant To Authority Of:\\nD. Other (Specify type of modification and authority)\\nE. IMPORTANT: Contractor\\nis not,\\nis required to sign this document and return _______________ copies to the Issuing Office.\\n14. Description Of Amendment/Modification (Organized by UCF section headings, including solicitation/contract subject matter where feasible.)\\nSEE SECOND PAGE FOR DESCRIPTION\\n\\nExcept as provided herein, all terms and conditions of the document referenced in item 9A or 10A, as heretofore changed, remains unchanged and in full force and\\neffect.\\n15A. Name And Title Of Signer (Type or print)\\n16A. Name And Title Of Contracting Officer (Type or print)\\n\\n15B. Contractor/Offeror\\n\\n15C. Date Signed\\n\\n16B. United States Of America\\nBy\\n\\n(Signature of person authorized to sign)\\nNSN 7540-01-152-8070\\nPREVIOUS EDITIONS UNUSABLE\\n\\n30-105-02\\n\\n16C. Date Signed\\n\\n/SIGNED/\\n\\n(Signature of Contracting Officer)\\nSTANDARD FORM 30 (REV. 10-83)\\nPrescribed by GSA FAR (48 CFR) 53.243\\n\\n\\x0cCONTINUATION SHEET\\n\\nReference No. of Document Being Continued\\n\\nPage\\n\\nSPRDL1-24-Q-0018\\n\\nPIIN/SIIN\\n\\nMOD/AMD 0002\\n\\nName of Offeror or Contractor:\\nSUPPLEMENTAL INFORMATION\\n\\nBuyer Name: MARCILLE NORDSTOG\\nBuyer Office Symbol/Telephone Number: ZGAC/(586)467-1219\\nType of Contract 1: Firm Fixed Price\\nKind of Contract: Other\\n\\n*** End of Narrative A0000 ***\\nAmendment 0002 to solicitation SPRDL1-24-R-0018 is to extend the solicitation due date from 14MAR2024 to 02APR2024.\\nAll other terms and conditions of the basic contract remain unchanged and in full force and effect.\\n\\n*** END OF NARRATIVE A0003 ***\\n\\n2\\n\\nof 2'"
      ]
     },
     "execution_count": 17,
     "metadata": {},
     "output_type": "execute_result"
    }
   ],
   "source": [
    "document[:4000]"
   ]
  },
  {
   "cell_type": "code",
   "execution_count": 18,
   "metadata": {},
   "outputs": [
    {
     "name": "stdout",
     "output_type": "stream",
     "text": [
      "Hj hoy ar yew, mz nm zjohnston\n"
     ]
    }
   ],
   "source": [
    "obliterate = dspy.Predict('sentence -> nonsense')\n",
    "response = obliterate(sentence=\"Hi how are you, my name is Daniel Johnston\")\n",
    "print(response.nonsense)"
   ]
  },
  {
   "cell_type": "code",
   "execution_count": 19,
   "metadata": {},
   "outputs": [
    {
     "data": {
      "text/plain": [
       "Prediction(\n",
       "    rationale='understand the payout structure of this bond.',\n",
       "    document_summary='This is a supplemental agreement for a modification of an existing contract between the United States government and a private company. The document outlines the changes being made to the original contract, including administrative provisions, technical provisions, and pricing information. It also includes details about the due date for the solicitation and the signatures of authorized individuals from both parties.'\n",
       ")"
      ]
     },
     "execution_count": 19,
     "metadata": {},
     "output_type": "execute_result"
    }
   ],
   "source": [
    "class SummarizeDocument(dspy.Signature):\n",
    "    \"\"\"Summarize the document for a potential contractor.\"\"\"\n",
    "\n",
    "    context = dspy.InputField(desc=\"requested information for summary\")\n",
    "    text = dspy.InputField()\n",
    "    document_summary = dspy.OutputField(desc=\"Summary of the document with important details.\")\n",
    "\n",
    "context = document\n",
    "text = \"What type of payout does this have?\"\n",
    "document_summary = dspy.ChainOfThought(SummarizeDocument)\n",
    "document_summary(context=context, text=text)\n",
    "\n"
   ]
  },
  {
   "cell_type": "code",
   "execution_count": 20,
   "metadata": {},
   "outputs": [
    {
     "name": "stdout",
     "output_type": "stream",
     "text": [
      "\n",
      "\n",
      "\n",
      "\n",
      "Summarize the document for a potential contractor.\n",
      "\n",
      "---\n",
      "\n",
      "Follow the following format.\n",
      "\n",
      "Context: requested information for summary\n",
      "\n",
      "Text: ${text}\n",
      "\n",
      "Reasoning: Let's think step by step in order to ${produce the document_summary}. We ...\n",
      "\n",
      "Document Summary: Summary of the document with important details.\n",
      "\n",
      "---\n",
      "\n",
      "Context:\n",
      "AMENDMENT OF SOLICITATION/MODIFICATION OF CONTRACT\n",
      "2. Amendment/Modification No.\n",
      "\n",
      "3. Effective Date\n",
      "\n",
      "0002\n",
      "\n",
      "4. Requisition/Purchase Req No.\n",
      "\n",
      "2024MAR15\n",
      "\n",
      "6. Issued By\n",
      "\n",
      "Code\n",
      "\n",
      "SPRDL1\n",
      "\n",
      "1. Contract ID Code\n",
      "\n",
      "Page\n",
      "\n",
      "1 Of 2\n",
      "\n",
      "Firm Fixed Price\n",
      "\n",
      "5. Project No. (If applicable)\n",
      "\n",
      "SEE SCHEDULE\n",
      "\n",
      "7. Administered By (If other than Item 6)\n",
      "\n",
      "Code\n",
      "\n",
      "DLA LAND WARREN\n",
      "MARCILLE NORDSTOG\n",
      "WARREN, MI 48397-5000\n",
      "\n",
      "EMAIL: MARCILLE.NORDSTOG@DLA.MIL\n",
      "\n",
      "8. Name And Address Of Contractor (No., Street, City, County, State and Zip Code)\n",
      "\n",
      "X\n",
      "\n",
      "9A. Amendment Of Solicitation No.\n",
      "SPRDL1-24-Q-0018\n",
      "\n",
      "9B. Dated (See Item 11)\n",
      "2024JAN03\n",
      "\n",
      "10A. Modification Of Contract/Order No.\n",
      "\n",
      "10B. Dated (See Item 13)\n",
      "Code\n",
      "\n",
      "Facility Code\n",
      "11. THIS ITEM ONLY APPLIES TO AMENDMENTS OF SOLICITATIONS\n",
      "\n",
      "X The above numbered solicitation is amended as set forth in item 14. The hour and date specified for receipt of Offers\n",
      "X is extended,\n",
      "is not extended. 2024APR02\n",
      "Offers must acknowledge receipt of this amendment prior to the hour and date specified in the solicitation or as amended by one of the following methods:\n",
      "(a) By completing items 8 and 15, and returning ____________\n",
      "2 signed copies of the amendments: (b) By acknowledging receipt of this amendment on each copy of the\n",
      "offer submitted; or (c) By separate letter or telegram which includes a reference to the solicitation and amendment numbers. FAILURE OF YOUR\n",
      "ACKNOWLEDGMENT TO BE RECEIVED AT THE PLACE DESIGNATED FOR THE RECEIPT OF OFFERS PRIOR TO THE HOUR AND DATE\n",
      "SPECIFIED MAY RESULT IN REJECTION OF YOUR OFFER. If by virtue of this amendment you desire to change an offer already submitted, such change\n",
      "may be made by telegram or letter, provided each telegram or letter makes reference to the solicitation and this amendment, and is received prior to the opening\n",
      "hour and date specified.\n",
      "12. Accounting And Appropriation Data (If required)\n",
      "\n",
      "13. THIS ITEM ONLY APPLIES TO MODIFICATIONS OF CONTRACTS/ORDERS\n",
      "It Modifies The Contract/Order No. As Described In Item 14.\n",
      "A. This Change Order is Issued Pursuant To:\n",
      "The Changes Set Forth In Item 14 Are Made In\n",
      "The Contract/Order No. In Item 10A.\n",
      "B. The Above Numbered Contract/Order Is Modified To Reflect The Administrative Changes (such as changes in paying office, appropriation data, etc.) Set\n",
      "Forth In Item 14, Pursuant To The Authority of FAR 43.103(b).\n",
      "C. This Supplemental Agreement Is Entered Into Pursuant To Authority Of:\n",
      "D. Other (Specify type of modification and authority)\n",
      "E. IMPORTANT: Contractor\n",
      "is not,\n",
      "is required to sign this document and return _______________ copies to the Issuing Office.\n",
      "14. Description Of Amendment/Modification (Organized by UCF section headings, including solicitation/contract subject matter where feasible.)\n",
      "SEE SECOND PAGE FOR DESCRIPTION\n",
      "\n",
      "Except as provided herein, all terms and conditions of the document referenced in item 9A or 10A, as heretofore changed, remains unchanged and in full force and\n",
      "effect.\n",
      "15A. Name And Title Of Signer (Type or print)\n",
      "16A. Name And Title Of Contracting Officer (Type or print)\n",
      "\n",
      "15B. Contractor/Offeror\n",
      "\n",
      "15C. Date Signed\n",
      "\n",
      "16B. United States Of America\n",
      "By\n",
      "\n",
      "(Signature of person authorized to sign)\n",
      "NSN 7540-01-152-8070\n",
      "PREVIOUS EDITIONS UNUSABLE\n",
      "\n",
      "30-105-02\n",
      "\n",
      "16C. Date Signed\n",
      "\n",
      "/SIGNED/\n",
      "\n",
      "(Signature of Contracting Officer)\n",
      "STANDARD FORM 30 (REV. 10-83)\n",
      "Prescribed by GSA FAR (48 CFR) 53.243\n",
      "\n",
      "\fCONTINUATION SHEET\n",
      "\n",
      "Reference No. of Document Being Continued\n",
      "\n",
      "Page\n",
      "\n",
      "SPRDL1-24-Q-0018\n",
      "\n",
      "PIIN/SIIN\n",
      "\n",
      "MOD/AMD 0002\n",
      "\n",
      "Name of Offeror or Contractor:\n",
      "SUPPLEMENTAL INFORMATION\n",
      "\n",
      "Buyer Name: MARCILLE NORDSTOG\n",
      "Buyer Office Symbol/Telephone Number: ZGAC/(586)467-1219\n",
      "Type of Contract 1: Firm Fixed Price\n",
      "Kind of Contract: Other\n",
      "\n",
      "*** End of Narrative A0000 ***\n",
      "Amendment 0002 to solicitation SPRDL1-24-R-0018 is to extend the solicitation due date from 14MAR2024 to 02APR2024.\n",
      "All other terms and conditions of the basic contract remain unchanged and in full force and effect.\n",
      "\n",
      "*** END OF NARRATIVE A0003 ***\n",
      "\n",
      "2\n",
      "\n",
      "of 2\n",
      "\n",
      "Text: What type of payout does this have?\n",
      "\n",
      "Reasoning: Let's think step by step in order to understand the payout structure of this bond.\n",
      "\n",
      "Document Summary:\u001b[32m This is a supplemental agreement for a modification of an existing contract between the United States government and a private company. The document outlines the changes being made to the original contract, including administrative provisions, technical provisions, and pricing information. It also includes details about the due date for the solicitation and the signatures of authorized individuals from both parties.\u001b[0m\n",
      "\n",
      "\n",
      "\n"
     ]
    }
   ],
   "source": [
    "llm.inspect_history(n=1)"
   ]
  },
  {
   "cell_type": "markdown",
   "metadata": {},
   "source": [
    "### Minimal Working Example"
   ]
  },
  {
   "cell_type": "code",
   "execution_count": 21,
   "metadata": {},
   "outputs": [
    {
     "name": "stderr",
     "output_type": "stream",
     "text": [
      "100%|██████████| 7473/7473 [00:00<00:00, 40914.99it/s]\n",
      "100%|██████████| 1319/1319 [00:00<00:00, 37784.72it/s]\n"
     ]
    }
   ],
   "source": [
    "import dspy\n",
    "from dspy.datasets.gsm8k import GSM8K, gsm8k_metric\n",
    "\n",
    "# Load math questions from the GSM8K dataset\n",
    "gsm8k = GSM8K()\n",
    "gsm8k_trainset, gsm8k_devset = gsm8k.train[:10], gsm8k.dev[:10]"
   ]
  },
  {
   "cell_type": "markdown",
   "metadata": {},
   "source": [
    "#### Define Module\n"
   ]
  },
  {
   "cell_type": "code",
   "execution_count": 22,
   "metadata": {},
   "outputs": [],
   "source": [
    "class CoT(dspy.Module):\n",
    "    def __init__(self):\n",
    "        super().__init__()\n",
    "        self.prog = dspy.ChainOfThought(\"question -> answer\")\n",
    "\n",
    "    def forward(self, question):\n",
    "        return self.prog(question=question)"
   ]
  },
  {
   "cell_type": "code",
   "execution_count": 23,
   "metadata": {},
   "outputs": [
    {
     "name": "stderr",
     "output_type": "stream",
     "text": [
      "100%|██████████| 10/10 [00:40<00:00,  4.03s/it]"
     ]
    },
    {
     "name": "stdout",
     "output_type": "stream",
     "text": [
      "Bootstrapped 3 full traces after 10 examples in round 0.\n"
     ]
    },
    {
     "name": "stderr",
     "output_type": "stream",
     "text": [
      "\n"
     ]
    }
   ],
   "source": [
    "from dspy.teleprompt import BootstrapFewShot\n",
    "\n",
    "# Set up the optimizer: we want to \"bootstrap\" (i.e., self-generate) 4-shot examples of our CoT program.\n",
    "config = dict(max_bootstrapped_demos=4, max_labeled_demos=4)\n",
    "\n",
    "# Optimize! Use the `gsm8k_metric` here. In general, the metric is going to tell the optimizer how well it's doing.\n",
    "teleprompter = BootstrapFewShot(metric=gsm8k_metric, **config)\n",
    "optimized_cot = teleprompter.compile(CoT(), trainset=gsm8k_trainset, valset=gsm8k_devset)"
   ]
  },
  {
   "cell_type": "code",
   "execution_count": 24,
   "metadata": {},
   "outputs": [
    {
     "name": "stderr",
     "output_type": "stream",
     "text": [
      "Average Metric: 1 / 10  (10.0): 100%|██████████| 10/10 [00:38<00:00,  3.88s/it]"
     ]
    },
    {
     "name": "stdout",
     "output_type": "stream",
     "text": [
      "Average Metric: 1 / 10  (10.0%)\n"
     ]
    },
    {
     "name": "stderr",
     "output_type": "stream",
     "text": [
      "\n",
      "/home/peter-legion-wsl2/peter-projects/daybreak-ml-docs/.venv/lib/python3.10/site-packages/dspy/evaluate/evaluate.py:187: FutureWarning: DataFrame.applymap has been deprecated. Use DataFrame.map instead.\n",
      "  df = df.applymap(truncate_cell)\n"
     ]
    },
    {
     "data": {
      "text/plain": [
       "10.0"
      ]
     },
     "execution_count": 24,
     "metadata": {},
     "output_type": "execute_result"
    }
   ],
   "source": [
    "from dspy.evaluate import Evaluate\n",
    "\n",
    "# Set up the evaluator, which can be used multiple times.\n",
    "evaluate = Evaluate(devset=gsm8k_devset, metric=gsm8k_metric, num_threads=4, display_progress=True, display_table=0)\n",
    "\n",
    "# Evaluate our `optimized_cot` program.\n",
    "evaluate(optimized_cot)"
   ]
  },
  {
   "cell_type": "code",
   "execution_count": 25,
   "metadata": {},
   "outputs": [
    {
     "name": "stdout",
     "output_type": "stream",
     "text": [
      "\n",
      "\n",
      "\n",
      "\n",
      "Given the fields `question`, produce the fields `answer`.\n",
      "\n",
      "---\n",
      "\n",
      "Follow the following format.\n",
      "\n",
      "Question: ${question}\n",
      "Reasoning: Let's think step by step in order to ${produce the answer}. We ...\n",
      "Answer: ${answer}\n",
      "\n",
      "---\n",
      "\n",
      "Question: A third of the contestants at a singing competition are female, and the rest are male. If there are 18 contestants in total, how many of them are male?\n",
      "Reasoning: Let's think step by step in order to find out how many males are there. We know that a third of the contestants are females, so we can calculate the number of females. Then, we subtract the number of females from the total number of contestants to get the number of males.\n",
      "Answer: 12\n",
      "\n",
      "---\n",
      "\n",
      "Question: Nancy bought a pie sliced it into 8 pieces. She gave 1/2 to Joe and Darcy, and she gave 1/4 to Carl. How many slices were left?\n",
      "Reasoning: Let's think step by step in order to find out how many slices were left. Firstly, we know that Nancy bought a pie and sliced it into 8 pieces. She gave Joe and Darcy half of the remaining slices, which is equivalent to 1/2 * (8 - 2) = 4 slices. Then she gave Carl one fourth of the remaining slices, which is equivalent to 1/4 * (8 - 6) = 2 slices. So how many slices were left?\n",
      "Answer: 2 slices\n",
      "\n",
      "---\n",
      "\n",
      "Question: Megan pays $16 for a shirt that costs $22 before sales. What is the amount of the discount?\n",
      "Reasoning: Let's think step by step in order to find the discount. We know that the original price of the shirt is $22, and Megan paid $16 for it. The difference between these two prices is the discount. So, we can calculate the discount as follows: Discount = Original Price - Paid Price\n",
      "Answer: $6\n",
      "\n",
      "---\n",
      "\n",
      "Question: Cameron is printing her thesis in the school library and has 400 A4 pieces of paper. If 40% of the papers did not print out up to her desired quality and she separated them as invalid, calculate the total number of valid documents.\n",
      "Answer: 240\n",
      "\n",
      "---\n",
      "\n",
      "Question: Burt spent $2.00 on a packet of basil seeds and $8.00 on potting soil. The packet of seeds yielded 20 basil plants. He sells each basil plant for $5.00 at the local farmer's market. What is the net profit from his basil plants?\n",
      "Reasoning: Let's think step by step in order to\u001b[32m find out the net profit from his basil plants. Firstly, we know that Burt spent $2.00 on a packet of basil seeds and $8.00 on potting soil. The packet of seeds yielded 20 basil plants. He sells each basil plant for $5.00 at the local farmer's market. So, we can calculate the total revenue from selling all the basil plants as follows: Total Revenue = Number of Basil Plants * Price per Basil Plant\n",
      "We also know that Burt spent money on seeds and potting soil. The cost for seeds is $2.00, and the cost for potting soil is $8.00. So, we can calculate the total cost as follows: Total Cost = Cost of Seeds + Cost of Potting Soil\n",
      "The net profit is calculated by subtracting the total cost from the total revenue.\n",
      "Answer: $50\u001b[0m\n",
      "\n",
      "\n",
      "\n",
      "\n",
      "\n",
      "\n",
      "\n",
      "Given the fields `question`, produce the fields `answer`.\n",
      "\n",
      "---\n",
      "\n",
      "Follow the following format.\n",
      "\n",
      "Question: ${question}\n",
      "Reasoning: Let's think step by step in order to ${produce the answer}. We ...\n",
      "Answer: ${answer}\n",
      "\n",
      "---\n",
      "\n",
      "Question: A third of the contestants at a singing competition are female, and the rest are male. If there are 18 contestants in total, how many of them are male?\n",
      "Reasoning: Let's think step by step in order to find out how many males are there. We know that a third of the contestants are females, so we can calculate the number of females. Then, we subtract the number of females from the total number of contestants to get the number of males.\n",
      "Answer: 12\n",
      "\n",
      "---\n",
      "\n",
      "Question: Nancy bought a pie sliced it into 8 pieces. She gave 1/2 to Joe and Darcy, and she gave 1/4 to Carl. How many slices were left?\n",
      "Reasoning: Let's think step by step in order to find out how many slices were left. Firstly, we know that Nancy bought a pie and sliced it into 8 pieces. She gave Joe and Darcy half of the remaining slices, which is equivalent to 1/2 * (8 - 2) = 4 slices. Then she gave Carl one fourth of the remaining slices, which is equivalent to 1/4 * (8 - 6) = 2 slices. So how many slices were left?\n",
      "Answer: 2 slices\n",
      "\n",
      "---\n",
      "\n",
      "Question: Megan pays $16 for a shirt that costs $22 before sales. What is the amount of the discount?\n",
      "Reasoning: Let's think step by step in order to find the discount. We know that the original price of the shirt is $22, and Megan paid $16 for it. The difference between these two prices is the discount. So, we can calculate the discount as follows: Discount = Original Price - Paid Price\n",
      "Answer: $6\n",
      "\n",
      "---\n",
      "\n",
      "Question: Cameron is printing her thesis in the school library and has 400 A4 pieces of paper. If 40% of the papers did not print out up to her desired quality and she separated them as invalid, calculate the total number of valid documents.\n",
      "Answer: 240\n",
      "\n",
      "---\n",
      "\n",
      "Question: Martha's cat catches 3 rats and 7 birds. Cara's cat catches 3 less than five times as many animals as Martha's cat. How many animals does Cara's cat catch?\n",
      "Reasoning: Let's think step by step in order to\u001b[32m find out how many animals Cara's cat catches. We know that Martha's cat catches 3 rats and 7 birds, so the total number of animals caught by Martha's cat is 3 + 7 = 10. Cara's cat catches five times as many animals as Martha's cat, but she catches three less than that. So we can calculate the number of animals caught by Cara's cat as follows: Number of animals caught by Cara's cat = 5 * (Number of animals caught by Martha's cat) - 3\n",
      "Answer: 42\u001b[0m\n",
      "\n",
      "\n",
      "\n",
      "\n",
      "\n",
      "\n",
      "\n",
      "Given the fields `question`, produce the fields `answer`.\n",
      "\n",
      "---\n",
      "\n",
      "Follow the following format.\n",
      "\n",
      "Question: ${question}\n",
      "Reasoning: Let's think step by step in order to ${produce the answer}. We ...\n",
      "Answer: ${answer}\n",
      "\n",
      "---\n",
      "\n",
      "Question: A third of the contestants at a singing competition are female, and the rest are male. If there are 18 contestants in total, how many of them are male?\n",
      "Reasoning: Let's think step by step in order to find out how many males are there. We know that a third of the contestants are females, so we can calculate the number of females. Then, we subtract the number of females from the total number of contestants to get the number of males.\n",
      "Answer: 12\n",
      "\n",
      "---\n",
      "\n",
      "Question: Nancy bought a pie sliced it into 8 pieces. She gave 1/2 to Joe and Darcy, and she gave 1/4 to Carl. How many slices were left?\n",
      "Reasoning: Let's think step by step in order to find out how many slices were left. Firstly, we know that Nancy bought a pie and sliced it into 8 pieces. She gave Joe and Darcy half of the remaining slices, which is equivalent to 1/2 * (8 - 2) = 4 slices. Then she gave Carl one fourth of the remaining slices, which is equivalent to 1/4 * (8 - 6) = 2 slices. So how many slices were left?\n",
      "Answer: 2 slices\n",
      "\n",
      "---\n",
      "\n",
      "Question: Megan pays $16 for a shirt that costs $22 before sales. What is the amount of the discount?\n",
      "Reasoning: Let's think step by step in order to find the discount. We know that the original price of the shirt is $22, and Megan paid $16 for it. The difference between these two prices is the discount. So, we can calculate the discount as follows: Discount = Original Price - Paid Price\n",
      "Answer: $6\n",
      "\n",
      "---\n",
      "\n",
      "Question: Cameron is printing her thesis in the school library and has 400 A4 pieces of paper. If 40% of the papers did not print out up to her desired quality and she separated them as invalid, calculate the total number of valid documents.\n",
      "Answer: 240\n",
      "\n",
      "---\n",
      "\n",
      "Question: Trey is raising money for a new bike that costs $112. He plans to spend the next two weeks selling bracelets for $1 each. On average, how many bracelets does he need to sell each day?\n",
      "Reasoning: Let's think step by step in order to\u001b[32m find out how many bracelets Trey needs to sell each day. We know that Trey is raising money for a new bike that costs $112, and he plans to spend the next two weeks selling bracelets for $1 each. The total amount of money he needs to raise is $112. In order to calculate how many bracelets he needs to sell each day, we can divide the total amount of money he needs to raise by the price of one bracelet and then divide it by the number of days.\n",
      "Answer: 34 bracelets per day\u001b[0m\n",
      "\n",
      "\n",
      "\n"
     ]
    }
   ],
   "source": [
    "llm.inspect_history(n=3)"
   ]
  },
  {
   "cell_type": "markdown",
   "metadata": {},
   "source": [
    "***"
   ]
  },
  {
   "cell_type": "code",
   "execution_count": 26,
   "metadata": {},
   "outputs": [],
   "source": [
    "class GenerateAnswer(dspy.Signature):\n",
    "    \"\"\"Answer questions with short factoid answers.\"\"\"\n",
    "\n",
    "    question = dspy.InputField()\n",
    "    answer = dspy.OutputField(desc=\"often between 1 and 5 words\")"
   ]
  },
  {
   "cell_type": "code",
   "execution_count": 27,
   "metadata": {},
   "outputs": [],
   "source": [
    "pot = dspy.ProgramOfThought(GenerateAnswer)"
   ]
  },
  {
   "cell_type": "code",
   "execution_count": 28,
   "metadata": {},
   "outputs": [
    {
     "name": "stdout",
     "output_type": "stream",
     "text": [
      "12\n"
     ]
    }
   ],
   "source": [
    "question = \"Sarah has 5 apples. She buys 7 more apples from the store. How many apples does Sarah have now?\"\n",
    "result = pot(question=question)"
   ]
  },
  {
   "cell_type": "code",
   "execution_count": 29,
   "metadata": {},
   "outputs": [
    {
     "name": "stdout",
     "output_type": "stream",
     "text": [
      "Question: Sarah has 5 apples. She buys 7 more apples from the store. How many apples does Sarah have now?\n",
      "Final Predicted Answer (after ProgramOfThought process): Sarah has 12 apples now.\n"
     ]
    }
   ],
   "source": [
    "print(f\"Question: {question}\")\n",
    "print(f\"Final Predicted Answer (after ProgramOfThought process): {result.answer}\")"
   ]
  },
  {
   "cell_type": "code",
   "execution_count": null,
   "metadata": {},
   "outputs": [],
   "source": [
    "llm.inspect_history(n=3)"
   ]
  },
  {
   "cell_type": "markdown",
   "metadata": {},
   "source": [
    "### Autonomous Coding"
   ]
  },
  {
   "cell_type": "code",
   "execution_count": 42,
   "metadata": {},
   "outputs": [],
   "source": [
    "class CreateCode(dspy.Signature):\n",
    "    \"Print the python code to execute the requested code\"\n",
    "\n",
    "    question = dspy.InputField(desc=\"A description of the code to be generated\")\n",
    "    answer = dspy.OutputField(desc=\"The code to be executed\")\n",
    "\n",
    "question = \"Add the numbers 9 and 13 and print the result\"\n",
    "\n",
    "answer = dspy.Predict(CreateCode)\n"
   ]
  },
  {
   "cell_type": "code",
   "execution_count": 43,
   "metadata": {},
   "outputs": [
    {
     "data": {
      "text/plain": [
       "Prediction(\n",
       "    answer='```python\\nx = 9\\ny = 13\\nresult = x + y\\nprint(result)\\n```'\n",
       ")"
      ]
     },
     "execution_count": 43,
     "metadata": {},
     "output_type": "execute_result"
    }
   ],
   "source": [
    "answer(question=question)"
   ]
  },
  {
   "cell_type": "code",
   "execution_count": 44,
   "metadata": {},
   "outputs": [
    {
     "name": "stdout",
     "output_type": "stream",
     "text": [
      "```python\n",
      "x = 9\n",
      "y = 13\n",
      "result = x + y\n",
      "print(result)\n",
      "```\n"
     ]
    }
   ],
   "source": [
    "print(answer(question=question).answer)"
   ]
  },
  {
   "cell_type": "code",
   "execution_count": 51,
   "metadata": {},
   "outputs": [],
   "source": [
    "class CleanCode(dspy.Signature):\n",
    "    \"Correctly format the python code for exectution.\"\n",
    "\n",
    "    question = dspy.InputField(desc=\"The python code to be formatted\")\n",
    "    answer = dspy.OutputField(desc=\"Cleaned python code, keeping newlines, but removing ``` or other non-pythonic items\")\n",
    "\n",
    "\n",
    "python_question = \"Add the numbers 9 and 13 and print the result\"\n",
    "\n"
   ]
  },
  {
   "cell_type": "code",
   "execution_count": null,
   "metadata": {},
   "outputs": [],
   "source": []
  }
 ],
 "metadata": {
  "kernelspec": {
   "display_name": ".venv",
   "language": "python",
   "name": "python3"
  },
  "language_info": {
   "codemirror_mode": {
    "name": "ipython",
    "version": 3
   },
   "file_extension": ".py",
   "mimetype": "text/x-python",
   "name": "python",
   "nbconvert_exporter": "python",
   "pygments_lexer": "ipython3",
   "version": "3.10.12"
  }
 },
 "nbformat": 4,
 "nbformat_minor": 2
}
